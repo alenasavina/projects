{
 "cells": [
  {
   "cell_type": "markdown",
   "metadata": {},
   "source": [
    "# Исследование надёжности заёмщиков\n",
    "\n",
    "**Заказчик:** кредитный отдел банка. \n",
    "\n",
    "**Цель:** определение влияния различных факторов (таких как семейного положения и количество детей клиента) на факт погашения кредита в срок. \n",
    "\n",
    "**Входные данные от банка**: статистика о платёжеспособности клиентов.\n",
    "\n",
    "Результаты исследования будут учтены при построении модели **кредитного скоринга** — специальной системы, которая оценивает способность потенциального заёмщика вернуть кредит банку."
   ]
  },
  {
   "cell_type": "markdown",
   "metadata": {},
   "source": [
    "## Содержание\n",
    "\n",
    "* [Предобработка и исследовательский анализ данных (EDA)](#chapter1)\n",
    "    * [Описание датасета](#section_1_1)\n",
    "    * [Предобработка данных](#section_1_2)\n",
    "* [Лемматизация](#chapter2)\n",
    "* [Категоризация](#chapter3)\n",
    "* [Исследование надежности заемщиков](#chapter4)\n",
    "    * [Зависимость между наличием детей и возвратом кредита в срок](#section_4_1)\n",
    "    * [Зависимость между семейным положением и возвратом кредита в срок](#section_4_2)\n",
    "    * [Зависимость между уровнем дохода и возвратом кредита в срок](#section_4_3)    \n",
    "    * [Влияние цели получения кредита на его возврат в срок](#section_4_4)\n",
    "* [Общие выводы](#chapter5)   \n"
   ]
  },
  {
   "cell_type": "markdown",
   "metadata": {},
   "source": [
    "## Предобработка и исследовательский анализ данных (EDA) <a class=\"anchor\" id=\"chapter1\"></a>"
   ]
  },
  {
   "cell_type": "markdown",
   "metadata": {},
   "source": [
    "### Описание датасета <a class=\"anchor\" id=\"section_1_1\"></a>"
   ]
  },
  {
   "cell_type": "code",
   "execution_count": 1,
   "metadata": {},
   "outputs": [
    {
     "name": "stdout",
     "output_type": "stream",
     "text": [
      "<class 'pandas.core.frame.DataFrame'>\n",
      "RangeIndex: 21525 entries, 0 to 21524\n",
      "Data columns (total 12 columns):\n",
      "children            21525 non-null int64\n",
      "days_employed       19351 non-null float64\n",
      "dob_years           21525 non-null int64\n",
      "education           21525 non-null object\n",
      "education_id        21525 non-null int64\n",
      "family_status       21525 non-null object\n",
      "family_status_id    21525 non-null int64\n",
      "gender              21525 non-null object\n",
      "income_type         21525 non-null object\n",
      "debt                21525 non-null int64\n",
      "total_income        19351 non-null float64\n",
      "purpose             21525 non-null object\n",
      "dtypes: float64(2), int64(5), object(5)\n",
      "memory usage: 2.0+ MB\n"
     ]
    }
   ],
   "source": [
    "import pandas as pd\n",
    "df = pd.read_csv('/datasets/data.csv')\n",
    "df.info()"
   ]
  },
  {
   "cell_type": "code",
   "execution_count": 2,
   "metadata": {},
   "outputs": [
    {
     "data": {
      "text/plain": [
       "(21525, 12)"
      ]
     },
     "execution_count": 2,
     "metadata": {},
     "output_type": "execute_result"
    }
   ],
   "source": [
    "df.shape"
   ]
  },
  {
   "cell_type": "code",
   "execution_count": 3,
   "metadata": {},
   "outputs": [
    {
     "data": {
      "text/plain": [
       "Index(['children', 'days_employed', 'dob_years', 'education', 'education_id',\n",
       "       'family_status', 'family_status_id', 'gender', 'income_type', 'debt',\n",
       "       'total_income', 'purpose'],\n",
       "      dtype='object')"
      ]
     },
     "execution_count": 3,
     "metadata": {},
     "output_type": "execute_result"
    }
   ],
   "source": [
    "df.columns"
   ]
  },
  {
   "cell_type": "code",
   "execution_count": 4,
   "metadata": {},
   "outputs": [],
   "source": [
    "# переимением столбец `dob_years` в `age` для простоты восприятия и длины строки\n",
    "df.columns = ['children', 'days_employed', 'age', 'education', 'education_id',\n",
    "       'family_status', 'family_status_id', 'gender', 'income_type', 'debt',\n",
    "       'total_income', 'purpose']"
   ]
  },
  {
   "cell_type": "code",
   "execution_count": 5,
   "metadata": {
    "scrolled": true
   },
   "outputs": [
    {
     "data": {
      "text/html": [
       "<div>\n",
       "<style scoped>\n",
       "    .dataframe tbody tr th:only-of-type {\n",
       "        vertical-align: middle;\n",
       "    }\n",
       "\n",
       "    .dataframe tbody tr th {\n",
       "        vertical-align: top;\n",
       "    }\n",
       "\n",
       "    .dataframe thead th {\n",
       "        text-align: right;\n",
       "    }\n",
       "</style>\n",
       "<table border=\"1\" class=\"dataframe\">\n",
       "  <thead>\n",
       "    <tr style=\"text-align: right;\">\n",
       "      <th></th>\n",
       "      <th>children</th>\n",
       "      <th>days_employed</th>\n",
       "      <th>age</th>\n",
       "      <th>education</th>\n",
       "      <th>education_id</th>\n",
       "      <th>family_status</th>\n",
       "      <th>family_status_id</th>\n",
       "      <th>gender</th>\n",
       "      <th>income_type</th>\n",
       "      <th>debt</th>\n",
       "      <th>total_income</th>\n",
       "      <th>purpose</th>\n",
       "    </tr>\n",
       "  </thead>\n",
       "  <tbody>\n",
       "    <tr>\n",
       "      <td>0</td>\n",
       "      <td>1</td>\n",
       "      <td>-8437.673028</td>\n",
       "      <td>42</td>\n",
       "      <td>высшее</td>\n",
       "      <td>0</td>\n",
       "      <td>женат / замужем</td>\n",
       "      <td>0</td>\n",
       "      <td>F</td>\n",
       "      <td>сотрудник</td>\n",
       "      <td>0</td>\n",
       "      <td>253875.639453</td>\n",
       "      <td>покупка жилья</td>\n",
       "    </tr>\n",
       "    <tr>\n",
       "      <td>1</td>\n",
       "      <td>1</td>\n",
       "      <td>-4024.803754</td>\n",
       "      <td>36</td>\n",
       "      <td>среднее</td>\n",
       "      <td>1</td>\n",
       "      <td>женат / замужем</td>\n",
       "      <td>0</td>\n",
       "      <td>F</td>\n",
       "      <td>сотрудник</td>\n",
       "      <td>0</td>\n",
       "      <td>112080.014102</td>\n",
       "      <td>приобретение автомобиля</td>\n",
       "    </tr>\n",
       "    <tr>\n",
       "      <td>2</td>\n",
       "      <td>0</td>\n",
       "      <td>-5623.422610</td>\n",
       "      <td>33</td>\n",
       "      <td>Среднее</td>\n",
       "      <td>1</td>\n",
       "      <td>женат / замужем</td>\n",
       "      <td>0</td>\n",
       "      <td>M</td>\n",
       "      <td>сотрудник</td>\n",
       "      <td>0</td>\n",
       "      <td>145885.952297</td>\n",
       "      <td>покупка жилья</td>\n",
       "    </tr>\n",
       "    <tr>\n",
       "      <td>3</td>\n",
       "      <td>3</td>\n",
       "      <td>-4124.747207</td>\n",
       "      <td>32</td>\n",
       "      <td>среднее</td>\n",
       "      <td>1</td>\n",
       "      <td>женат / замужем</td>\n",
       "      <td>0</td>\n",
       "      <td>M</td>\n",
       "      <td>сотрудник</td>\n",
       "      <td>0</td>\n",
       "      <td>267628.550329</td>\n",
       "      <td>дополнительное образование</td>\n",
       "    </tr>\n",
       "    <tr>\n",
       "      <td>4</td>\n",
       "      <td>0</td>\n",
       "      <td>340266.072047</td>\n",
       "      <td>53</td>\n",
       "      <td>среднее</td>\n",
       "      <td>1</td>\n",
       "      <td>гражданский брак</td>\n",
       "      <td>1</td>\n",
       "      <td>F</td>\n",
       "      <td>пенсионер</td>\n",
       "      <td>0</td>\n",
       "      <td>158616.077870</td>\n",
       "      <td>сыграть свадьбу</td>\n",
       "    </tr>\n",
       "  </tbody>\n",
       "</table>\n",
       "</div>"
      ],
      "text/plain": [
       "   children  days_employed  age education  education_id     family_status  \\\n",
       "0         1   -8437.673028   42    высшее             0   женат / замужем   \n",
       "1         1   -4024.803754   36   среднее             1   женат / замужем   \n",
       "2         0   -5623.422610   33   Среднее             1   женат / замужем   \n",
       "3         3   -4124.747207   32   среднее             1   женат / замужем   \n",
       "4         0  340266.072047   53   среднее             1  гражданский брак   \n",
       "\n",
       "   family_status_id gender income_type  debt   total_income  \\\n",
       "0                 0      F   сотрудник     0  253875.639453   \n",
       "1                 0      F   сотрудник     0  112080.014102   \n",
       "2                 0      M   сотрудник     0  145885.952297   \n",
       "3                 0      M   сотрудник     0  267628.550329   \n",
       "4                 1      F   пенсионер     0  158616.077870   \n",
       "\n",
       "                      purpose  \n",
       "0               покупка жилья  \n",
       "1     приобретение автомобиля  \n",
       "2               покупка жилья  \n",
       "3  дополнительное образование  \n",
       "4             сыграть свадьбу  "
      ]
     },
     "execution_count": 5,
     "metadata": {},
     "output_type": "execute_result"
    }
   ],
   "source": [
    "df.head()"
   ]
  },
  {
   "cell_type": "markdown",
   "metadata": {},
   "source": [
    "В исследуемой выборке 21 525 строк - клиентов, данными о которых мы располагаем для анализа.  \n",
    "\n",
    "Датасет содержит данные о следующих параметрах:\n",
    " - `children` количество детей в семье;\n",
    " - `days_employed` продолжительность трудового стажа в днях (есть пропуски в данных);\n",
    " - `age` возраст клиента в годах;\n",
    " - `education` уровень образования;\n",
    " - `education_id` идентификатор уровня образования;\n",
    " - `family_status` семейное положение;\n",
    " - `family_status_id` идентификатор семейного положения;\n",
    " - `gender` - пол (F - женский; M - мужской);\n",
    " - `income_type` тип занятости;\n",
    " - `debt` - имел ли задолженность по возврату кредитов;\n",
    " - `total_income` ежемесячный доход (наличие пропусков);\n",
    " - `purpose` цель получения кредита.\n",
    " \n",
    "Ключевой параметр, который нас интересует параментр - `debt` (возврат кредита в срок), определение факта влияния различных критериев на заданный парамент позможет в дальнейшем выстроить эффективную систему скорринга для банка."
   ]
  },
  {
   "cell_type": "markdown",
   "metadata": {},
   "source": [
    "### Предобработка данных <a class=\"anchor\" id=\"section_1_2\"></a>"
   ]
  },
  {
   "cell_type": "code",
   "execution_count": 6,
   "metadata": {},
   "outputs": [
    {
     "data": {
      "text/plain": [
       "54"
      ]
     },
     "execution_count": 6,
     "metadata": {},
     "output_type": "execute_result"
    }
   ],
   "source": [
    "df.duplicated().sum()"
   ]
  },
  {
   "cell_type": "markdown",
   "metadata": {},
   "source": [
    "В выборке 71 дубликат, выборку очистим."
   ]
  },
  {
   "cell_type": "code",
   "execution_count": 7,
   "metadata": {},
   "outputs": [
    {
     "data": {
      "text/plain": [
       "(21471, 12)"
      ]
     },
     "execution_count": 7,
     "metadata": {},
     "output_type": "execute_result"
    }
   ],
   "source": [
    "df = df.drop_duplicates().reset_index(drop = True)\n",
    "df.shape"
   ]
  },
  {
   "cell_type": "markdown",
   "metadata": {},
   "source": [
    "В датасете обнаружен 71 дубликат, в случае с выгрузкой из базы данных банка, дубликаты могли появиться при смене статуса рассмотрения заявки или стать результатом простой ошибки выгрузки. Во избежание ошибки и двойного учета, дубликаты удалены."
   ]
  },
  {
   "cell_type": "markdown",
   "metadata": {},
   "source": [
    "##### Количество детей"
   ]
  },
  {
   "cell_type": "code",
   "execution_count": 8,
   "metadata": {},
   "outputs": [
    {
     "data": {
      "text/plain": [
       " 0     14107\n",
       " 1      4809\n",
       " 2      2052\n",
       " 3       330\n",
       " 20       76\n",
       "-1        47\n",
       " 4        41\n",
       " 5         9\n",
       "Name: children, dtype: int64"
      ]
     },
     "execution_count": 8,
     "metadata": {},
     "output_type": "execute_result"
    }
   ],
   "source": [
    "df['children'].value_counts()"
   ]
  },
  {
   "cell_type": "markdown",
   "metadata": {},
   "source": [
    "Значение \"-1\" и \"20\" в графе колиечество детей вызывают сомнения. Наиболее верояно, данные являются ошибкой ввода: \"-1\" вместо \"1\", \"20\" вместо \"2\". Так как количество детей обычно колеблется от 0 до 5, что подтверждается выборкой (наибольшее количество людей не имеют детей или имеют 1 ребенка, 5 детей у наименьшего количества людей), исправим ошибку заменой."
   ]
  },
  {
   "cell_type": "code",
   "execution_count": 9,
   "metadata": {},
   "outputs": [],
   "source": [
    "df['children'] = df['children'].replace(-1, 1)\n",
    "df['children'] = df['children'].replace(20, 2)"
   ]
  },
  {
   "cell_type": "code",
   "execution_count": 10,
   "metadata": {},
   "outputs": [
    {
     "data": {
      "text/plain": [
       "<matplotlib.axes._subplots.AxesSubplot at 0x7fabcc2fdfd0>"
      ]
     },
     "execution_count": 10,
     "metadata": {},
     "output_type": "execute_result"
    },
    {
     "data": {
      "image/png": "[encoded data removed]",
      "text/plain": [
       "<Figure size 432x288 with 1 Axes>"
      ]
     },
     "metadata": {
      "needs_background": "light"
     },
     "output_type": "display_data"
    }
   ],
   "source": [
    "# оценим распределение количества детей в семье\n",
    "df['children'].hist()"
   ]
  },
  {
   "cell_type": "markdown",
   "metadata": {},
   "source": [
    "##### Трудовой стаж"
   ]
  },
  {
   "cell_type": "code",
   "execution_count": 11,
   "metadata": {},
   "outputs": [
    {
     "data": {
      "text/plain": [
       "<matplotlib.axes._subplots.AxesSubplot at 0x7fab8e2fa0d0>"
      ]
     },
     "execution_count": 11,
     "metadata": {},
     "output_type": "execute_result"
    },
    {
     "data": {
      "image/png": "[encoded data removed]",
      "text/plain": [
       "<Figure size 432x144 with 1 Axes>"
      ]
     },
     "metadata": {
      "needs_background": "light"
     },
     "output_type": "display_data"
    }
   ],
   "source": [
    "# Гистограмма расплеределения трудового стажа\n",
    "df['days_employed'].hist(figsize = (6, 2))"
   ]
  },
  {
   "cell_type": "code",
   "execution_count": 12,
   "metadata": {},
   "outputs": [
    {
     "data": {
      "text/plain": [
       "15906"
      ]
     },
     "execution_count": 12,
     "metadata": {},
     "output_type": "execute_result"
    }
   ],
   "source": [
    "df[df['days_employed'] < 0]['days_employed'].count()"
   ]
  },
  {
   "cell_type": "markdown",
   "metadata": {},
   "source": [
    "Значения в столбце `data_employed` отрицательные (74% всех значений), возможно ошибка, но пояснения отсутствуют. Так как в датасете есть параметры возраста, образования и дохода, ответить на ключевые вопросы можно без использования данных из данного столбца."
   ]
  },
  {
   "cell_type": "code",
   "execution_count": 13,
   "metadata": {},
   "outputs": [],
   "source": [
    "# удалим столбец с некорректными данными\n",
    "df.drop('days_employed', axis = 1, inplace = True)"
   ]
  },
  {
   "cell_type": "markdown",
   "metadata": {},
   "source": [
    "##### Возраст"
   ]
  },
  {
   "cell_type": "code",
   "execution_count": 14,
   "metadata": {
    "scrolled": true
   },
   "outputs": [
    {
     "data": {
      "text/plain": [
       "<matplotlib.axes._subplots.AxesSubplot at 0x7fab8e270bd0>"
      ]
     },
     "execution_count": 14,
     "metadata": {},
     "output_type": "execute_result"
    },
    {
     "data": {
      "image/png": "[encoded data removed]",
      "text/plain": [
       "<Figure size 432x288 with 1 Axes>"
      ]
     },
     "metadata": {
      "needs_background": "light"
     },
     "output_type": "display_data"
    }
   ],
   "source": [
    "# Гистограмма расплеределения возраста\n",
    "df['age'].hist()"
   ]
  },
  {
   "cell_type": "code",
   "execution_count": 15,
   "metadata": {},
   "outputs": [
    {
     "name": "stdout",
     "output_type": "stream",
     "text": [
      "Минимальный возраст в выборке - 0\n",
      "Максимальный возраст в выборке - 75\n",
      "Средний возраст в выборке - 43.279074099948765\n",
      "Средний возраст в выборке (медианное значение) - 42.0\n"
     ]
    }
   ],
   "source": [
    "print('Минимальный возраст в выборке -', df['age'].min())\n",
    "print('Максимальный возраст в выборке -',df['age'].max())\n",
    "print('Средний возраст в выборке -',df['age'].mean())\n",
    "print('Средний возраст в выборке (медианное значение) -',df['age'].median())"
   ]
  },
  {
   "cell_type": "code",
   "execution_count": 16,
   "metadata": {},
   "outputs": [
    {
     "name": "stdout",
     "output_type": "stream",
     "text": [
      "В выборке 101 строка с некорректным возрастом.\n"
     ]
    }
   ],
   "source": [
    "print('В выборке', df[df['age'] < 18]['age'].count(), 'строка с некорректным возрастом.')"
   ]
  },
  {
   "cell_type": "code",
   "execution_count": 17,
   "metadata": {},
   "outputs": [],
   "source": [
    "# 101 просуск составляет 0,5%, оставим только корректные данные\n",
    "df = df[df['age'] != 0]"
   ]
  },
  {
   "cell_type": "code",
   "execution_count": 18,
   "metadata": {},
   "outputs": [
    {
     "data": {
      "text/plain": [
       "<matplotlib.axes._subplots.AxesSubplot at 0x7fab8e2068d0>"
      ]
     },
     "execution_count": 18,
     "metadata": {},
     "output_type": "execute_result"
    },
    {
     "data": {
      "image/png": "[encoded data removed]",
      "text/plain": [
       "<Figure size 432x288 with 1 Axes>"
      ]
     },
     "metadata": {
      "needs_background": "light"
     },
     "output_type": "display_data"
    }
   ],
   "source": [
    "df['age'].hist()"
   ]
  },
  {
   "cell_type": "markdown",
   "metadata": {},
   "source": [
    "##### Образование"
   ]
  },
  {
   "cell_type": "code",
   "execution_count": 19,
   "metadata": {},
   "outputs": [
    {
     "data": {
      "text/plain": [
       "среднее                13646\n",
       "высшее                  4678\n",
       "СРЕДНЕЕ                  770\n",
       "Среднее                  708\n",
       "неоконченное высшее      666\n",
       "ВЫСШЕЕ                   272\n",
       "Высшее                   266\n",
       "начальное                250\n",
       "Неоконченное высшее       47\n",
       "НЕОКОНЧЕННОЕ ВЫСШЕЕ       29\n",
       "НАЧАЛЬНОЕ                 17\n",
       "Начальное                 15\n",
       "ученая степень             4\n",
       "УЧЕНАЯ СТЕПЕНЬ             1\n",
       "Ученая степень             1\n",
       "Name: education, dtype: int64"
      ]
     },
     "execution_count": 19,
     "metadata": {},
     "output_type": "execute_result"
    }
   ],
   "source": [
    "df['education'].value_counts()"
   ]
  },
  {
   "cell_type": "code",
   "execution_count": 20,
   "metadata": {},
   "outputs": [
    {
     "data": {
      "text/plain": [
       "array(['высшее', 'среднее', 'неоконченное высшее', 'начальное',\n",
       "       'ученая степень'], dtype=object)"
      ]
     },
     "execution_count": 20,
     "metadata": {},
     "output_type": "execute_result"
    }
   ],
   "source": [
    "# приведем данные в столбце образование к нижнему регистру\n",
    "df['education'] = df['education'].str.lower()\n",
    "df['education'].unique()"
   ]
  },
  {
   "cell_type": "code",
   "execution_count": 21,
   "metadata": {},
   "outputs": [
    {
     "data": {
      "text/plain": [
       "0"
      ]
     },
     "execution_count": 21,
     "metadata": {},
     "output_type": "execute_result"
    }
   ],
   "source": [
    "df['education'].isna().sum()"
   ]
  },
  {
   "cell_type": "markdown",
   "metadata": {},
   "source": [
    "Данные приведены к нижнему регистру и теперь имеют единый вид. Пропуски по данному полю отсутствуют."
   ]
  },
  {
   "cell_type": "markdown",
   "metadata": {},
   "source": [
    "##### Семейное положение"
   ]
  },
  {
   "cell_type": "code",
   "execution_count": 22,
   "metadata": {},
   "outputs": [
    {
     "data": {
      "text/plain": [
       "array(['женат / замужем', 'гражданский брак', 'вдовец / вдова',\n",
       "       'в разводе', 'Не женат / не замужем'], dtype=object)"
      ]
     },
     "execution_count": 22,
     "metadata": {},
     "output_type": "execute_result"
    }
   ],
   "source": [
    "df['family_status'].unique()"
   ]
  },
  {
   "cell_type": "code",
   "execution_count": 23,
   "metadata": {},
   "outputs": [
    {
     "data": {
      "text/plain": [
       "0"
      ]
     },
     "execution_count": 23,
     "metadata": {},
     "output_type": "execute_result"
    }
   ],
   "source": [
    "df['family_status'].isna().sum()"
   ]
  },
  {
   "cell_type": "markdown",
   "metadata": {},
   "source": [
    "Пропуски отсутствуют, статусы корректны."
   ]
  },
  {
   "cell_type": "markdown",
   "metadata": {},
   "source": [
    "##### Пол"
   ]
  },
  {
   "cell_type": "code",
   "execution_count": 24,
   "metadata": {},
   "outputs": [
    {
     "data": {
      "text/plain": [
       "array(['F', 'M', 'XNA'], dtype=object)"
      ]
     },
     "execution_count": 24,
     "metadata": {},
     "output_type": "execute_result"
    }
   ],
   "source": [
    "df['gender'].unique()"
   ]
  },
  {
   "cell_type": "code",
   "execution_count": 25,
   "metadata": {},
   "outputs": [],
   "source": [
    "# в датафрейме всего 1 строка с некорректным полом, уберем данные всей строки их анализа\n",
    "df = df[df['gender'] != \"XNA\"]"
   ]
  },
  {
   "cell_type": "markdown",
   "metadata": {},
   "source": [
    "##### Тип занятости и ежемесячный доход"
   ]
  },
  {
   "cell_type": "code",
   "execution_count": 26,
   "metadata": {
    "scrolled": false
   },
   "outputs": [
    {
     "data": {
      "text/plain": [
       "сотрудник          11036\n",
       "компаньон           5059\n",
       "пенсионер           3817\n",
       "госслужащий         1451\n",
       "безработный            2\n",
       "предприниматель        2\n",
       "студент                1\n",
       "в декрете              1\n",
       "Name: income_type, dtype: int64"
      ]
     },
     "execution_count": 26,
     "metadata": {},
     "output_type": "execute_result"
    }
   ],
   "source": [
    "df['income_type'].value_counts()"
   ]
  },
  {
   "cell_type": "code",
   "execution_count": 27,
   "metadata": {},
   "outputs": [
    {
     "name": "stdout",
     "output_type": "stream",
     "text": [
      "Минимальный уровень дохода в выборке - 20667.26379327158\n",
      "Максимальный уровень дохода в выборке - 2265604.028722744\n",
      "Средний уровень дохода в выборке - 167463.33199560302\n",
      "Средний уровень дохода в выборке (медианное значение) - 145005.48105850274\n",
      "Количество пропусков в выборке - 2110\n"
     ]
    }
   ],
   "source": [
    "print('Минимальный уровень дохода в выборке -', df['total_income'].min())\n",
    "print('Максимальный уровень дохода в выборке -',df['total_income'].max())\n",
    "print('Средний уровень дохода в выборке -',df['total_income'].mean())\n",
    "print('Средний уровень дохода в выборке (медианное значение) -',df['total_income'].median())\n",
    "print('Количество пропусков в выборке -',df['total_income'].isna().sum())"
   ]
  },
  {
   "cell_type": "code",
   "execution_count": 28,
   "metadata": {},
   "outputs": [
    {
     "data": {
      "text/plain": [
       "income_type\n",
       "безработный        131339.751676\n",
       "в декрете           53829.130729\n",
       "госслужащий        171008.225815\n",
       "компаньон          202483.170111\n",
       "пенсионер          137120.690001\n",
       "предприниматель    499163.144947\n",
       "сотрудник          161404.247418\n",
       "студент             98201.625314\n",
       "Name: total_income, dtype: float64"
      ]
     },
     "execution_count": 28,
     "metadata": {},
     "output_type": "execute_result"
    }
   ],
   "source": [
    "# рассчитаем средний уровень дохода по типу дохода\n",
    "df.groupby('income_type')['total_income'].mean()"
   ]
  },
  {
   "cell_type": "code",
   "execution_count": 29,
   "metadata": {},
   "outputs": [
    {
     "data": {
      "text/plain": [
       "сотрудник          0.508057\n",
       "компаньон          0.237441\n",
       "пенсионер          0.185308\n",
       "госслужащий        0.068720\n",
       "предприниматель    0.000474\n",
       "Name: income_type, dtype: float64"
      ]
     },
     "execution_count": 29,
     "metadata": {},
     "output_type": "execute_result"
    }
   ],
   "source": [
    "missed = df[df['total_income'].isnull()]\n",
    "missed['income_type'].value_counts(normalize=True)"
   ]
  },
  {
   "cell_type": "markdown",
   "metadata": {},
   "source": [
    "Существуют пропуски в данных среди представителей большинства типов занятости."
   ]
  },
  {
   "cell_type": "code",
   "execution_count": 30,
   "metadata": {},
   "outputs": [
    {
     "data": {
      "text/plain": [
       "сотрудник          0.516449\n",
       "компаньон          0.236745\n",
       "пенсионер          0.178623\n",
       "госслужащий        0.067902\n",
       "безработный        0.000094\n",
       "предприниматель    0.000094\n",
       "студент            0.000047\n",
       "в декрете          0.000047\n",
       "Name: income_type, dtype: float64"
      ]
     },
     "execution_count": 30,
     "metadata": {},
     "output_type": "execute_result"
    }
   ],
   "source": [
    "df['income_type'].value_counts(normalize=True)"
   ]
  },
  {
   "cell_type": "markdown",
   "metadata": {},
   "source": [
    "Проверели есть ли связь между пропущенными значениями в графе `total_income` и `income_type`, в качестве проверке гиппотезы о том, что люди с высоким доходом предпочитают его не афишировать. Мы видим, что и в данных с пропусками, и в общих данных концентрация типов занятости одинаковая, то есть пропуски не зависят от типа занятости. Пропуски в поле доход обнаружены у людей со следующим видом дохода: \"сотрудник\", \"компаньон\", \"пенсионер\", \"госслужащий\" и \"предприниматель\". В списке тип дохода, подразумевает регулярное денежное вознаграждение. Возможно данные скрыты преднамерено, но доля пропущенных значение соответствует доле соответствующих профессий в общем датасете. \n",
    "Заменим обнаруженные пропуски медианным значением по типу дохода."
   ]
  },
  {
   "cell_type": "code",
   "execution_count": 31,
   "metadata": {},
   "outputs": [],
   "source": [
    "# заменим пропущенные значения в выборке средним (медианным) значением по источнику дохода\n",
    "\n",
    "for income_type_name in df['income_type'].unique():\n",
    "    df.loc[(df['income_type'] == income_type_name)\n",
    "           & (df['total_income'].isna()),'total_income']  = df.loc[(df['income_type'] == income_type_name),\n",
    "                                                                   'total_income'].median()\n",
    "    "
   ]
  },
  {
   "cell_type": "code",
   "execution_count": 32,
   "metadata": {},
   "outputs": [
    {
     "name": "stdout",
     "output_type": "stream",
     "text": [
      "Новое количество пропусков с толбце доход в данных - 0\n"
     ]
    }
   ],
   "source": [
    "print('Новое количество пропусков с толбце доход в данных -', df['total_income'].isna().sum())"
   ]
  },
  {
   "cell_type": "code",
   "execution_count": 33,
   "metadata": {},
   "outputs": [
    {
     "data": {
      "text/plain": [
       "0        253875\n",
       "1        112080\n",
       "2        145885\n",
       "3        267628\n",
       "4        158616\n",
       "          ...  \n",
       "21466    224791\n",
       "21467    155999\n",
       "21468     89672\n",
       "21469    244093\n",
       "21470     82047\n",
       "Name: total_income, Length: 21369, dtype: int64"
      ]
     },
     "execution_count": 33,
     "metadata": {},
     "output_type": "execute_result"
    }
   ],
   "source": [
    "df['total_income'].astype('int')"
   ]
  },
  {
   "cell_type": "markdown",
   "metadata": {},
   "source": [
    "Данные прошли предварительную обработку. \n",
    "Некорректные значение в столбце количество детей (`children`) заменено корректными.\n",
    "Строки в столбце `education` приведены к единому регистру.\n",
    "Уровень дохода (`total_imcome`) - важный критерий, без которого невозможно ответить на поставленные вопросы. Пропущенные данные в нем заменены средним значением по типу достатка.\n",
    "В графе `gender` было значение с ошибкой, строку с неверными данными мы опустили."
   ]
  },
  {
   "cell_type": "markdown",
   "metadata": {},
   "source": [
    "##### Цели получения кредита"
   ]
  },
  {
   "cell_type": "code",
   "execution_count": 34,
   "metadata": {},
   "outputs": [
    {
     "data": {
      "text/plain": [
       "0                       покупка жилья\n",
       "1             приобретение автомобиля\n",
       "2                       покупка жилья\n",
       "3          дополнительное образование\n",
       "4                     сыграть свадьбу\n",
       "                     ...             \n",
       "21466               операции с жильем\n",
       "21467            сделка с автомобилем\n",
       "21468                    недвижимость\n",
       "21469    на покупку своего автомобиля\n",
       "21470           на покупку автомобиля\n",
       "Name: purpose, Length: 21369, dtype: object"
      ]
     },
     "execution_count": 34,
     "metadata": {},
     "output_type": "execute_result"
    }
   ],
   "source": [
    "# приведем значения цели получения кредита к единому нижнему регистру для дальнейшей работе с текстом\n",
    "\n",
    "df['purpose'].astype('str').str.lower()"
   ]
  },
  {
   "cell_type": "markdown",
   "metadata": {},
   "source": [
    "Данные в столбце `purpose` приведены к единому регистру."
   ]
  },
  {
   "cell_type": "code",
   "execution_count": 35,
   "metadata": {},
   "outputs": [
    {
     "data": {
      "text/plain": [
       "17"
      ]
     },
     "execution_count": 35,
     "metadata": {},
     "output_type": "execute_result"
    }
   ],
   "source": [
    "# повторная проверка на дубликаты после привещения датафрейма к нижнему регистру\n",
    "df.duplicated().sum()"
   ]
  },
  {
   "cell_type": "code",
   "execution_count": 36,
   "metadata": {},
   "outputs": [
    {
     "data": {
      "text/plain": [
       "(21352, 11)"
      ]
     },
     "execution_count": 36,
     "metadata": {},
     "output_type": "execute_result"
    }
   ],
   "source": [
    "df = df.drop_duplicates().reset_index(drop = True)\n",
    "df.shape"
   ]
  },
  {
   "cell_type": "markdown",
   "metadata": {},
   "source": [
    "## Лемматизация <a class=\"anchor\" id=\"chapter2\"></a>"
   ]
  },
  {
   "cell_type": "markdown",
   "metadata": {},
   "source": [
    "Для создания словаря целей получения кредита применем лемматизацию."
   ]
  },
  {
   "cell_type": "code",
   "execution_count": 37,
   "metadata": {},
   "outputs": [
    {
     "data": {
      "text/html": [
       "<div>\n",
       "<style scoped>\n",
       "    .dataframe tbody tr th:only-of-type {\n",
       "        vertical-align: middle;\n",
       "    }\n",
       "\n",
       "    .dataframe tbody tr th {\n",
       "        vertical-align: top;\n",
       "    }\n",
       "\n",
       "    .dataframe thead th {\n",
       "        text-align: right;\n",
       "    }\n",
       "</style>\n",
       "<table border=\"1\" class=\"dataframe\">\n",
       "  <thead>\n",
       "    <tr style=\"text-align: right;\">\n",
       "      <th></th>\n",
       "      <th>purpose</th>\n",
       "      <th>purpose_lem</th>\n",
       "    </tr>\n",
       "  </thead>\n",
       "  <tbody>\n",
       "    <tr>\n",
       "      <td>0</td>\n",
       "      <td>покупка жилья</td>\n",
       "      <td>[покупка,  , жилье, \\n]</td>\n",
       "    </tr>\n",
       "    <tr>\n",
       "      <td>1</td>\n",
       "      <td>приобретение автомобиля</td>\n",
       "      <td>[приобретение,  , автомобиль, \\n]</td>\n",
       "    </tr>\n",
       "    <tr>\n",
       "      <td>2</td>\n",
       "      <td>покупка жилья</td>\n",
       "      <td>[покупка,  , жилье, \\n]</td>\n",
       "    </tr>\n",
       "    <tr>\n",
       "      <td>3</td>\n",
       "      <td>дополнительное образование</td>\n",
       "      <td>[дополнительный,  , образование, \\n]</td>\n",
       "    </tr>\n",
       "    <tr>\n",
       "      <td>4</td>\n",
       "      <td>сыграть свадьбу</td>\n",
       "      <td>[сыграть,  , свадьба, \\n]</td>\n",
       "    </tr>\n",
       "    <tr>\n",
       "      <td>...</td>\n",
       "      <td>...</td>\n",
       "      <td>...</td>\n",
       "    </tr>\n",
       "    <tr>\n",
       "      <td>21347</td>\n",
       "      <td>операции с жильем</td>\n",
       "      <td>[операция,  , с,  , жилье, \\n]</td>\n",
       "    </tr>\n",
       "    <tr>\n",
       "      <td>21348</td>\n",
       "      <td>сделка с автомобилем</td>\n",
       "      <td>[сделка,  , с,  , автомобиль, \\n]</td>\n",
       "    </tr>\n",
       "    <tr>\n",
       "      <td>21349</td>\n",
       "      <td>недвижимость</td>\n",
       "      <td>[недвижимость, \\n]</td>\n",
       "    </tr>\n",
       "    <tr>\n",
       "      <td>21350</td>\n",
       "      <td>на покупку своего автомобиля</td>\n",
       "      <td>[на,  , покупка,  , свой,  , автомобиль, \\n]</td>\n",
       "    </tr>\n",
       "    <tr>\n",
       "      <td>21351</td>\n",
       "      <td>на покупку автомобиля</td>\n",
       "      <td>[на,  , покупка,  , автомобиль, \\n]</td>\n",
       "    </tr>\n",
       "  </tbody>\n",
       "</table>\n",
       "<p>21352 rows × 2 columns</p>\n",
       "</div>"
      ],
      "text/plain": [
       "                            purpose  \\\n",
       "0                     покупка жилья   \n",
       "1           приобретение автомобиля   \n",
       "2                     покупка жилья   \n",
       "3        дополнительное образование   \n",
       "4                   сыграть свадьбу   \n",
       "...                             ...   \n",
       "21347             операции с жильем   \n",
       "21348          сделка с автомобилем   \n",
       "21349                  недвижимость   \n",
       "21350  на покупку своего автомобиля   \n",
       "21351         на покупку автомобиля   \n",
       "\n",
       "                                        purpose_lem  \n",
       "0                           [покупка,  , жилье, \\n]  \n",
       "1                 [приобретение,  , автомобиль, \\n]  \n",
       "2                           [покупка,  , жилье, \\n]  \n",
       "3              [дополнительный,  , образование, \\n]  \n",
       "4                         [сыграть,  , свадьба, \\n]  \n",
       "...                                             ...  \n",
       "21347                [операция,  , с,  , жилье, \\n]  \n",
       "21348             [сделка,  , с,  , автомобиль, \\n]  \n",
       "21349                            [недвижимость, \\n]  \n",
       "21350  [на,  , покупка,  , свой,  , автомобиль, \\n]  \n",
       "21351           [на,  , покупка,  , автомобиль, \\n]  \n",
       "\n",
       "[21352 rows x 2 columns]"
      ]
     },
     "execution_count": 37,
     "metadata": {},
     "output_type": "execute_result"
    }
   ],
   "source": [
    "from pymystem3 import Mystem\n",
    "m = Mystem()\n",
    "\n",
    "#добавим столбец с лемматизированными данными в датафрейм\n",
    "df['purpose_lem'] = df['purpose'].apply(m.lemmatize)\n",
    "\n",
    "df[['purpose', 'purpose_lem']]"
   ]
  },
  {
   "cell_type": "code",
   "execution_count": 38,
   "metadata": {},
   "outputs": [
    {
     "data": {
      "text/plain": [
       "[(' ', 54785),\n",
       " ('недвижимость', 6327),\n",
       " ('покупка', 5869),\n",
       " ('жилье', 4436),\n",
       " ('автомобиль', 4284),\n",
       " ('образование', 3995),\n",
       " ('с', 2904),\n",
       " ('операция', 2593),\n",
       " ('свадьба', 2310),\n",
       " ('свой', 2223),\n",
       " ('на', 2210),\n",
       " ('строительство', 1873),\n",
       " ('высокий', 1366),\n",
       " ('получение', 1309),\n",
       " ('коммерческий', 1306),\n",
       " ('для', 1286),\n",
       " ('жилой', 1224),\n",
       " ('сделка', 938),\n",
       " ('дополнительный', 902),\n",
       " ('заниматься', 900)]"
      ]
     },
     "execution_count": 38,
     "metadata": {},
     "output_type": "execute_result"
    }
   ],
   "source": [
    "from pymystem3 import Mystem\n",
    "from collections import Counter\n",
    "m = Mystem()\n",
    "\n",
    "test = Counter(m.lemmatize(' '.join(df['purpose'])))\n",
    "test.most_common(20)\n"
   ]
  },
  {
   "cell_type": "markdown",
   "metadata": {},
   "source": [
    "Среди наиболее часто встречающихся целей получения кредита можно выделить: \"недвижимость\", \"жилье\", \"автомобиль\", \"образование\" и \"свадьба\". \"Недвижимость\" и \"жилье\" мы выделим в отдельные группы, так как недвижимость может быть коммерческой и приобретена с целью создания коммерческих организаций."
   ]
  },
  {
   "cell_type": "code",
   "execution_count": 39,
   "metadata": {},
   "outputs": [
    {
     "data": {
      "text/html": [
       "<div>\n",
       "<style scoped>\n",
       "    .dataframe tbody tr th:only-of-type {\n",
       "        vertical-align: middle;\n",
       "    }\n",
       "\n",
       "    .dataframe tbody tr th {\n",
       "        vertical-align: top;\n",
       "    }\n",
       "\n",
       "    .dataframe thead th {\n",
       "        text-align: right;\n",
       "    }\n",
       "</style>\n",
       "<table border=\"1\" class=\"dataframe\">\n",
       "  <thead>\n",
       "    <tr style=\"text-align: right;\">\n",
       "      <th></th>\n",
       "      <th>purpose</th>\n",
       "      <th>purpose_lem</th>\n",
       "      <th>purpose_group</th>\n",
       "    </tr>\n",
       "  </thead>\n",
       "  <tbody>\n",
       "    <tr>\n",
       "      <td>0</td>\n",
       "      <td>покупка жилья</td>\n",
       "      <td>[покупка,  , жилье, \\n]</td>\n",
       "      <td>жилье</td>\n",
       "    </tr>\n",
       "    <tr>\n",
       "      <td>1</td>\n",
       "      <td>приобретение автомобиля</td>\n",
       "      <td>[приобретение,  , автомобиль, \\n]</td>\n",
       "      <td>автомобиль</td>\n",
       "    </tr>\n",
       "    <tr>\n",
       "      <td>2</td>\n",
       "      <td>покупка жилья</td>\n",
       "      <td>[покупка,  , жилье, \\n]</td>\n",
       "      <td>жилье</td>\n",
       "    </tr>\n",
       "    <tr>\n",
       "      <td>3</td>\n",
       "      <td>дополнительное образование</td>\n",
       "      <td>[дополнительный,  , образование, \\n]</td>\n",
       "      <td>образование</td>\n",
       "    </tr>\n",
       "    <tr>\n",
       "      <td>4</td>\n",
       "      <td>сыграть свадьбу</td>\n",
       "      <td>[сыграть,  , свадьба, \\n]</td>\n",
       "      <td>свадьба</td>\n",
       "    </tr>\n",
       "    <tr>\n",
       "      <td>...</td>\n",
       "      <td>...</td>\n",
       "      <td>...</td>\n",
       "      <td>...</td>\n",
       "    </tr>\n",
       "    <tr>\n",
       "      <td>21347</td>\n",
       "      <td>операции с жильем</td>\n",
       "      <td>[операция,  , с,  , жилье, \\n]</td>\n",
       "      <td>жилье</td>\n",
       "    </tr>\n",
       "    <tr>\n",
       "      <td>21348</td>\n",
       "      <td>сделка с автомобилем</td>\n",
       "      <td>[сделка,  , с,  , автомобиль, \\n]</td>\n",
       "      <td>автомобиль</td>\n",
       "    </tr>\n",
       "    <tr>\n",
       "      <td>21349</td>\n",
       "      <td>недвижимость</td>\n",
       "      <td>[недвижимость, \\n]</td>\n",
       "      <td>недвижимость</td>\n",
       "    </tr>\n",
       "    <tr>\n",
       "      <td>21350</td>\n",
       "      <td>на покупку своего автомобиля</td>\n",
       "      <td>[на,  , покупка,  , свой,  , автомобиль, \\n]</td>\n",
       "      <td>автомобиль</td>\n",
       "    </tr>\n",
       "    <tr>\n",
       "      <td>21351</td>\n",
       "      <td>на покупку автомобиля</td>\n",
       "      <td>[на,  , покупка,  , автомобиль, \\n]</td>\n",
       "      <td>автомобиль</td>\n",
       "    </tr>\n",
       "  </tbody>\n",
       "</table>\n",
       "<p>21352 rows × 3 columns</p>\n",
       "</div>"
      ],
      "text/plain": [
       "                            purpose  \\\n",
       "0                     покупка жилья   \n",
       "1           приобретение автомобиля   \n",
       "2                     покупка жилья   \n",
       "3        дополнительное образование   \n",
       "4                   сыграть свадьбу   \n",
       "...                             ...   \n",
       "21347             операции с жильем   \n",
       "21348          сделка с автомобилем   \n",
       "21349                  недвижимость   \n",
       "21350  на покупку своего автомобиля   \n",
       "21351         на покупку автомобиля   \n",
       "\n",
       "                                        purpose_lem purpose_group  \n",
       "0                           [покупка,  , жилье, \\n]         жилье  \n",
       "1                 [приобретение,  , автомобиль, \\n]    автомобиль  \n",
       "2                           [покупка,  , жилье, \\n]         жилье  \n",
       "3              [дополнительный,  , образование, \\n]   образование  \n",
       "4                         [сыграть,  , свадьба, \\n]       свадьба  \n",
       "...                                             ...           ...  \n",
       "21347                [операция,  , с,  , жилье, \\n]         жилье  \n",
       "21348             [сделка,  , с,  , автомобиль, \\n]    автомобиль  \n",
       "21349                            [недвижимость, \\n]  недвижимость  \n",
       "21350  [на,  , покупка,  , свой,  , автомобиль, \\n]    автомобиль  \n",
       "21351           [на,  , покупка,  , автомобиль, \\n]    автомобиль  \n",
       "\n",
       "[21352 rows x 3 columns]"
      ]
     },
     "execution_count": 39,
     "metadata": {},
     "output_type": "execute_result"
    }
   ],
   "source": [
    "# выделим основные цели получения кредитов\n",
    "def purpose_group(purpose_lem):\n",
    "    if 'жилье' in purpose_lem:\n",
    "        return 'жилье'\n",
    "    if 'недвижимость' in purpose_lem:\n",
    "        return 'недвижимость'\n",
    "    if 'автомобиль' in purpose_lem:\n",
    "        return 'автомобиль'\n",
    "    if 'свадьба' in purpose_lem:\n",
    "        return 'свадьба'\n",
    "    if 'образование' in purpose_lem:\n",
    "        return 'образование'\n",
    "    return 'другое'\n",
    "\n",
    "# выделим цели в отдельный столбец и добавим в датафрейм\n",
    "df['purpose_group'] = df['purpose_lem'].apply(purpose_group)\n",
    "\n",
    "# проверим результат\n",
    "df[['purpose', 'purpose_lem','purpose_group']]"
   ]
  },
  {
   "cell_type": "code",
   "execution_count": 40,
   "metadata": {},
   "outputs": [
    {
     "data": {
      "text/plain": [
       "недвижимость    6327\n",
       "жилье           4436\n",
       "автомобиль      4284\n",
       "образование     3995\n",
       "свадьба         2310\n",
       "Name: purpose_group, dtype: int64"
      ]
     },
     "execution_count": 40,
     "metadata": {},
     "output_type": "execute_result"
    }
   ],
   "source": [
    "df['purpose_group'].value_counts()"
   ]
  },
  {
   "cell_type": "code",
   "execution_count": 41,
   "metadata": {},
   "outputs": [
    {
     "data": {
      "text/plain": [
       "недвижимость    0.296319\n",
       "жилье           0.207756\n",
       "автомобиль      0.200637\n",
       "образование     0.187102\n",
       "свадьба         0.108187\n",
       "Name: purpose_group, dtype: float64"
      ]
     },
     "execution_count": 41,
     "metadata": {},
     "output_type": "execute_result"
    }
   ],
   "source": [
    "df['purpose_group'].value_counts(normalize = True)"
   ]
  },
  {
   "cell_type": "markdown",
   "metadata": {},
   "source": [
    "### Вывод"
   ]
  },
  {
   "cell_type": "markdown",
   "metadata": {},
   "source": [
    "С помощью лемматизации среди целей получения кредита выделены 5 основных: недвижимость, жилье, автомобиль, образование и свадьба. Наибольшее количество людей берут кредит для покупки или ремонта недвижимости (30%), а также на жилье (21%), что также может относиться к недвижимости. Тройку лидеров закрывает автомобиль, для приобритения его кредит берут 20% клиентов.\n",
    "Определение целей позволит произвести группировку для дальнейшего анализа."
   ]
  },
  {
   "cell_type": "markdown",
   "metadata": {},
   "source": [
    "## Категоризация <a class=\"anchor\" id=\"chapter3\"></a>"
   ]
  },
  {
   "cell_type": "markdown",
   "metadata": {},
   "source": [
    "#### Возрастные категории"
   ]
  },
  {
   "cell_type": "code",
   "execution_count": 42,
   "metadata": {
    "scrolled": true
   },
   "outputs": [
    {
     "data": {
      "text/html": [
       "<div>\n",
       "<style scoped>\n",
       "    .dataframe tbody tr th:only-of-type {\n",
       "        vertical-align: middle;\n",
       "    }\n",
       "\n",
       "    .dataframe tbody tr th {\n",
       "        vertical-align: top;\n",
       "    }\n",
       "\n",
       "    .dataframe thead th {\n",
       "        text-align: right;\n",
       "    }\n",
       "</style>\n",
       "<table border=\"1\" class=\"dataframe\">\n",
       "  <thead>\n",
       "    <tr style=\"text-align: right;\">\n",
       "      <th></th>\n",
       "      <th>children</th>\n",
       "      <th>age</th>\n",
       "      <th>education</th>\n",
       "      <th>education_id</th>\n",
       "      <th>family_status</th>\n",
       "      <th>family_status_id</th>\n",
       "      <th>gender</th>\n",
       "      <th>income_type</th>\n",
       "      <th>debt</th>\n",
       "      <th>total_income</th>\n",
       "      <th>purpose</th>\n",
       "      <th>purpose_lem</th>\n",
       "      <th>purpose_group</th>\n",
       "      <th>age_group</th>\n",
       "    </tr>\n",
       "  </thead>\n",
       "  <tbody>\n",
       "    <tr>\n",
       "      <td>9884</td>\n",
       "      <td>1</td>\n",
       "      <td>45</td>\n",
       "      <td>начальное</td>\n",
       "      <td>3</td>\n",
       "      <td>Не женат / не замужем</td>\n",
       "      <td>4</td>\n",
       "      <td>M</td>\n",
       "      <td>сотрудник</td>\n",
       "      <td>0</td>\n",
       "      <td>298488.469580</td>\n",
       "      <td>заняться высшим образованием</td>\n",
       "      <td>[заниматься,  , высокий,  , образование, \\n]</td>\n",
       "      <td>образование</td>\n",
       "      <td>36 - 45</td>\n",
       "    </tr>\n",
       "    <tr>\n",
       "      <td>13841</td>\n",
       "      <td>0</td>\n",
       "      <td>28</td>\n",
       "      <td>высшее</td>\n",
       "      <td>0</td>\n",
       "      <td>Не женат / не замужем</td>\n",
       "      <td>4</td>\n",
       "      <td>F</td>\n",
       "      <td>компаньон</td>\n",
       "      <td>0</td>\n",
       "      <td>172268.927048</td>\n",
       "      <td>операции с коммерческой недвижимостью</td>\n",
       "      <td>[операция,  , с,  , коммерческий,  , недвижимо...</td>\n",
       "      <td>недвижимость</td>\n",
       "      <td>18 - 35</td>\n",
       "    </tr>\n",
       "  </tbody>\n",
       "</table>\n",
       "</div>"
      ],
      "text/plain": [
       "       children  age  education  education_id          family_status  \\\n",
       "9884          1   45  начальное             3  Не женат / не замужем   \n",
       "13841         0   28     высшее             0  Не женат / не замужем   \n",
       "\n",
       "       family_status_id gender income_type  debt   total_income  \\\n",
       "9884                  4      M   сотрудник     0  298488.469580   \n",
       "13841                 4      F   компаньон     0  172268.927048   \n",
       "\n",
       "                                     purpose  \\\n",
       "9884            заняться высшим образованием   \n",
       "13841  операции с коммерческой недвижимостью   \n",
       "\n",
       "                                             purpose_lem purpose_group  \\\n",
       "9884        [заниматься,  , высокий,  , образование, \\n]   образование   \n",
       "13841  [операция,  , с,  , коммерческий,  , недвижимо...  недвижимость   \n",
       "\n",
       "      age_group  \n",
       "9884    36 - 45  \n",
       "13841   18 - 35  "
      ]
     },
     "execution_count": 42,
     "metadata": {},
     "output_type": "execute_result"
    }
   ],
   "source": [
    "# выделим группы по возрасту\n",
    "def age_group (age):\n",
    "    if age < 18:\n",
    "        return \"wrong\"\n",
    "    if age <= 35:\n",
    "        return \"18 - 35\"\n",
    "    if age <= 45:\n",
    "        return \"36 - 45\"\n",
    "    if age <= 65:\n",
    "        return \"46 - 65\"\n",
    "    return \"66 - 75\"\n",
    "\n",
    "# добавим тип групп в датафрейм\n",
    "df['age_group'] = df['age'].apply(age_group)\n",
    "df.sample(2)"
   ]
  },
  {
   "cell_type": "code",
   "execution_count": 43,
   "metadata": {},
   "outputs": [
    {
     "data": {
      "text/plain": [
       "age_group\n",
       "18 - 35    6582\n",
       "36 - 45    5620\n",
       "46 - 65    8448\n",
       "66 - 75     702\n",
       "Name: age_group, dtype: int64"
      ]
     },
     "execution_count": 43,
     "metadata": {},
     "output_type": "execute_result"
    }
   ],
   "source": [
    "df.groupby('age_group')['age_group'].count()"
   ]
  },
  {
   "cell_type": "markdown",
   "metadata": {},
   "source": [
    "Благодаря группировке, мы получили 4 возрастные группы, 3 из которых позволяют разделить взрослых клиентов на практически равные группы и выделить одну группу пенсионеров."
   ]
  },
  {
   "cell_type": "markdown",
   "metadata": {},
   "source": [
    "#### Категории по уровню дохода"
   ]
  },
  {
   "cell_type": "code",
   "execution_count": 44,
   "metadata": {
    "scrolled": true
   },
   "outputs": [
    {
     "data": {
      "text/plain": [
       "<matplotlib.axes._subplots.AxesSubplot at 0x7fab8e119fd0>"
      ]
     },
     "execution_count": 44,
     "metadata": {},
     "output_type": "execute_result"
    },
    {
     "data": {
      "image/png": "[encoded data removed]",
      "text/plain": [
       "<Figure size 1152x288 with 1 Axes>"
      ]
     },
     "metadata": {
      "needs_background": "light"
     },
     "output_type": "display_data"
    }
   ],
   "source": [
    "df['total_income'].hist(figsize = (16, 4), bins = 10, range = (0, 500000))"
   ]
  },
  {
   "cell_type": "code",
   "execution_count": 45,
   "metadata": {},
   "outputs": [],
   "source": [
    "# категориии по уровню дохода\n",
    "def income_group (income):\n",
    "    if income <= 50000:\n",
    "        return 'менее 50k'\n",
    "    if income <= 100000:\n",
    "        return '50k - 100k'\n",
    "    if income <= 200000:\n",
    "        return '100k - 200k'    \n",
    "    if income <= 300000:\n",
    "        return '200k - 300k'\n",
    "    if income <= 500000:\n",
    "        return '300k - 500k'\n",
    "    return 'более 500k'\n",
    "\n",
    "# добавим столбец с категориями в датафрейм\n",
    "df['income_group'] = df['total_income'].apply(income_group)"
   ]
  },
  {
   "cell_type": "code",
   "execution_count": 46,
   "metadata": {},
   "outputs": [
    {
     "data": {
      "text/plain": [
       "income_group\n",
       "100k - 200k    11872\n",
       "200k - 300k     3561\n",
       "300k - 500k     1257\n",
       "50k - 100k      4070\n",
       "более 500k       222\n",
       "менее 50k        370\n",
       "Name: income_group, dtype: int64"
      ]
     },
     "execution_count": 46,
     "metadata": {},
     "output_type": "execute_result"
    }
   ],
   "source": [
    "df.groupby('income_group')['income_group'].count()"
   ]
  },
  {
   "cell_type": "markdown",
   "metadata": {},
   "source": [
    "#### Категории по семейному положению"
   ]
  },
  {
   "cell_type": "code",
   "execution_count": 47,
   "metadata": {},
   "outputs": [
    {
     "data": {
      "text/plain": [
       "женат / замужем          0.575590\n",
       "гражданский брак         0.193378\n",
       "Не женат / не замужем    0.130854\n",
       "в разводе                0.055498\n",
       "вдовец / вдова           0.044680\n",
       "Name: family_status, dtype: float64"
      ]
     },
     "execution_count": 47,
     "metadata": {},
     "output_type": "execute_result"
    }
   ],
   "source": [
    "#выделим семейное положение в отдельный датафрейм\n",
    "df_log = df[['family_status','family_status_id']]\n",
    "df_log['family_status'].value_counts(3)"
   ]
  },
  {
   "cell_type": "code",
   "execution_count": 61,
   "metadata": {},
   "outputs": [
    {
     "data": {
      "text/html": [
       "<div>\n",
       "<style scoped>\n",
       "    .dataframe tbody tr th:only-of-type {\n",
       "        vertical-align: middle;\n",
       "    }\n",
       "\n",
       "    .dataframe tbody tr th {\n",
       "        vertical-align: top;\n",
       "    }\n",
       "\n",
       "    .dataframe thead th {\n",
       "        text-align: right;\n",
       "    }\n",
       "</style>\n",
       "<table border=\"1\" class=\"dataframe\">\n",
       "  <thead>\n",
       "    <tr style=\"text-align: right;\">\n",
       "      <th></th>\n",
       "      <th>family_status</th>\n",
       "      <th>family_status_id</th>\n",
       "    </tr>\n",
       "  </thead>\n",
       "  <tbody>\n",
       "    <tr>\n",
       "      <td>0</td>\n",
       "      <td>женат / замужем</td>\n",
       "      <td>0</td>\n",
       "    </tr>\n",
       "    <tr>\n",
       "      <td>1</td>\n",
       "      <td>гражданский брак</td>\n",
       "      <td>1</td>\n",
       "    </tr>\n",
       "    <tr>\n",
       "      <td>2</td>\n",
       "      <td>вдовец / вдова</td>\n",
       "      <td>2</td>\n",
       "    </tr>\n",
       "    <tr>\n",
       "      <td>3</td>\n",
       "      <td>в разводе</td>\n",
       "      <td>3</td>\n",
       "    </tr>\n",
       "    <tr>\n",
       "      <td>4</td>\n",
       "      <td>Не женат / не замужем</td>\n",
       "      <td>4</td>\n",
       "    </tr>\n",
       "  </tbody>\n",
       "</table>\n",
       "</div>"
      ],
      "text/plain": [
       "           family_status  family_status_id\n",
       "0        женат / замужем                 0\n",
       "1       гражданский брак                 1\n",
       "2         вдовец / вдова                 2\n",
       "3              в разводе                 3\n",
       "4  Не женат / не замужем                 4"
      ]
     },
     "execution_count": 61,
     "metadata": {},
     "output_type": "execute_result"
    }
   ],
   "source": [
    "# создадим словарь, оставив только уникальные значения в датафрейме с семейным пложением\n",
    "df_dict = df_log.drop_duplicates().reset_index(drop = True)\n",
    "df_dict"
   ]
  },
  {
   "cell_type": "markdown",
   "metadata": {},
   "source": [
    "### Вывод"
   ]
  },
  {
   "cell_type": "markdown",
   "metadata": {},
   "source": [
    "Для категоризации были определены группы по следующим критериям: \n",
    "1. Возрастные группы\n",
    "2. Группы по уровню дохода\n",
    "Таже ранее были присвоены группы по целям получения кредите.\n",
    "\n",
    "Категоризация позволяет разделять выборку для определения общих признаков и ответа на вопросы."
   ]
  },
  {
   "cell_type": "markdown",
   "metadata": {},
   "source": [
    "## Исследование надежности заемщиков <a class=\"anchor\" id=\"chapter4\"></a>"
   ]
  },
  {
   "cell_type": "code",
   "execution_count": 57,
   "metadata": {},
   "outputs": [
    {
     "data": {
      "text/html": [
       "<div>\n",
       "<style scoped>\n",
       "    .dataframe tbody tr th:only-of-type {\n",
       "        vertical-align: middle;\n",
       "    }\n",
       "\n",
       "    .dataframe tbody tr th {\n",
       "        vertical-align: top;\n",
       "    }\n",
       "\n",
       "    .dataframe thead th {\n",
       "        text-align: right;\n",
       "    }\n",
       "</style>\n",
       "<table border=\"1\" class=\"dataframe\">\n",
       "  <thead>\n",
       "    <tr style=\"text-align: right;\">\n",
       "      <th></th>\n",
       "      <th>children</th>\n",
       "      <th>age</th>\n",
       "      <th>education_id</th>\n",
       "      <th>family_status_id</th>\n",
       "      <th>debt</th>\n",
       "      <th>total_income</th>\n",
       "    </tr>\n",
       "  </thead>\n",
       "  <tbody>\n",
       "    <tr>\n",
       "      <td>children</td>\n",
       "      <td>1.000000</td>\n",
       "      <td>-0.318035</td>\n",
       "      <td>-0.026519</td>\n",
       "      <td>-0.158089</td>\n",
       "      <td>0.025019</td>\n",
       "      <td>0.031668</td>\n",
       "    </tr>\n",
       "    <tr>\n",
       "      <td>age</td>\n",
       "      <td>-0.318035</td>\n",
       "      <td>1.000000</td>\n",
       "      <td>0.064745</td>\n",
       "      <td>-0.068807</td>\n",
       "      <td>-0.071579</td>\n",
       "      <td>-0.060523</td>\n",
       "    </tr>\n",
       "    <tr>\n",
       "      <td>education_id</td>\n",
       "      <td>-0.026519</td>\n",
       "      <td>0.064745</td>\n",
       "      <td>1.000000</td>\n",
       "      <td>0.009524</td>\n",
       "      <td>0.052786</td>\n",
       "      <td>-0.172049</td>\n",
       "    </tr>\n",
       "    <tr>\n",
       "      <td>family_status_id</td>\n",
       "      <td>-0.158089</td>\n",
       "      <td>-0.068807</td>\n",
       "      <td>0.009524</td>\n",
       "      <td>1.000000</td>\n",
       "      <td>0.020686</td>\n",
       "      <td>-0.008451</td>\n",
       "    </tr>\n",
       "    <tr>\n",
       "      <td>debt</td>\n",
       "      <td>0.025019</td>\n",
       "      <td>-0.071579</td>\n",
       "      <td>0.052786</td>\n",
       "      <td>0.020686</td>\n",
       "      <td>1.000000</td>\n",
       "      <td>-0.012573</td>\n",
       "    </tr>\n",
       "    <tr>\n",
       "      <td>total_income</td>\n",
       "      <td>0.031668</td>\n",
       "      <td>-0.060523</td>\n",
       "      <td>-0.172049</td>\n",
       "      <td>-0.008451</td>\n",
       "      <td>-0.012573</td>\n",
       "      <td>1.000000</td>\n",
       "    </tr>\n",
       "  </tbody>\n",
       "</table>\n",
       "</div>"
      ],
      "text/plain": [
       "                  children       age  education_id  family_status_id  \\\n",
       "children          1.000000 -0.318035     -0.026519         -0.158089   \n",
       "age              -0.318035  1.000000      0.064745         -0.068807   \n",
       "education_id     -0.026519  0.064745      1.000000          0.009524   \n",
       "family_status_id -0.158089 -0.068807      0.009524          1.000000   \n",
       "debt              0.025019 -0.071579      0.052786          0.020686   \n",
       "total_income      0.031668 -0.060523     -0.172049         -0.008451   \n",
       "\n",
       "                      debt  total_income  \n",
       "children          0.025019      0.031668  \n",
       "age              -0.071579     -0.060523  \n",
       "education_id      0.052786     -0.172049  \n",
       "family_status_id  0.020686     -0.008451  \n",
       "debt              1.000000     -0.012573  \n",
       "total_income     -0.012573      1.000000  "
      ]
     },
     "execution_count": 57,
     "metadata": {},
     "output_type": "execute_result"
    }
   ],
   "source": [
    "df.corr()"
   ]
  },
  {
   "cell_type": "markdown",
   "metadata": {},
   "source": [
    "Отсутствует прямая выраженная корреляция между признаками."
   ]
  },
  {
   "cell_type": "markdown",
   "metadata": {},
   "source": [
    "### Зависимость между наличием детей и возвратом кредита в срок  <a class=\"anchor\" id=\"section_4_1\"></a>"
   ]
  },
  {
   "cell_type": "code",
   "execution_count": 49,
   "metadata": {},
   "outputs": [
    {
     "data": {
      "text/html": [
       "<div>\n",
       "<style scoped>\n",
       "    .dataframe tbody tr th:only-of-type {\n",
       "        vertical-align: middle;\n",
       "    }\n",
       "\n",
       "    .dataframe tbody tr th {\n",
       "        vertical-align: top;\n",
       "    }\n",
       "\n",
       "    .dataframe thead tr th {\n",
       "        text-align: left;\n",
       "    }\n",
       "</style>\n",
       "<table border=\"1\" class=\"dataframe\">\n",
       "  <thead>\n",
       "    <tr>\n",
       "      <th></th>\n",
       "      <th>children</th>\n",
       "      <th colspan=\"2\" halign=\"left\">count</th>\n",
       "      <th colspan=\"2\" halign=\"left\">mean</th>\n",
       "    </tr>\n",
       "    <tr>\n",
       "      <th>gender</th>\n",
       "      <th></th>\n",
       "      <th>F</th>\n",
       "      <th>M</th>\n",
       "      <th>F</th>\n",
       "      <th>M</th>\n",
       "    </tr>\n",
       "  </thead>\n",
       "  <tbody>\n",
       "    <tr>\n",
       "      <td>0</td>\n",
       "      <td>0</td>\n",
       "      <td>9470.0</td>\n",
       "      <td>4551.0</td>\n",
       "      <td>0.062196</td>\n",
       "      <td>0.103054</td>\n",
       "    </tr>\n",
       "    <tr>\n",
       "      <td>1</td>\n",
       "      <td>1</td>\n",
       "      <td>3109.0</td>\n",
       "      <td>1730.0</td>\n",
       "      <td>0.078482</td>\n",
       "      <td>0.114451</td>\n",
       "    </tr>\n",
       "    <tr>\n",
       "      <td>2</td>\n",
       "      <td>2</td>\n",
       "      <td>1293.0</td>\n",
       "      <td>821.0</td>\n",
       "      <td>0.106729</td>\n",
       "      <td>0.077954</td>\n",
       "    </tr>\n",
       "    <tr>\n",
       "      <td>3</td>\n",
       "      <td>3</td>\n",
       "      <td>195.0</td>\n",
       "      <td>133.0</td>\n",
       "      <td>0.087179</td>\n",
       "      <td>0.075188</td>\n",
       "    </tr>\n",
       "    <tr>\n",
       "      <td>4</td>\n",
       "      <td>4</td>\n",
       "      <td>28.0</td>\n",
       "      <td>13.0</td>\n",
       "      <td>0.035714</td>\n",
       "      <td>0.230769</td>\n",
       "    </tr>\n",
       "    <tr>\n",
       "      <td>5</td>\n",
       "      <td>5</td>\n",
       "      <td>7.0</td>\n",
       "      <td>2.0</td>\n",
       "      <td>0.000000</td>\n",
       "      <td>0.000000</td>\n",
       "    </tr>\n",
       "  </tbody>\n",
       "</table>\n",
       "</div>"
      ],
      "text/plain": [
       "       children   count              mean          \n",
       "gender                F       M         F         M\n",
       "0             0  9470.0  4551.0  0.062196  0.103054\n",
       "1             1  3109.0  1730.0  0.078482  0.114451\n",
       "2             2  1293.0   821.0  0.106729  0.077954\n",
       "3             3   195.0   133.0  0.087179  0.075188\n",
       "4             4    28.0    13.0  0.035714  0.230769\n",
       "5             5     7.0     2.0  0.000000  0.000000"
      ]
     },
     "execution_count": 49,
     "metadata": {},
     "output_type": "execute_result"
    }
   ],
   "source": [
    "df_pivot_kids = df.pivot_table(index=['children'], columns=['gender'], values='debt', aggfunc= {'mean', 'count'})\n",
    "\n",
    "df_pivot_kids.reset_index()"
   ]
  },
  {
   "cell_type": "code",
   "execution_count": 50,
   "metadata": {},
   "outputs": [
    {
     "data": {
      "text/html": [
       "<div>\n",
       "<style scoped>\n",
       "    .dataframe tbody tr th:only-of-type {\n",
       "        vertical-align: middle;\n",
       "    }\n",
       "\n",
       "    .dataframe tbody tr th {\n",
       "        vertical-align: top;\n",
       "    }\n",
       "\n",
       "    .dataframe thead tr th {\n",
       "        text-align: left;\n",
       "    }\n",
       "\n",
       "    .dataframe thead tr:last-of-type th {\n",
       "        text-align: right;\n",
       "    }\n",
       "</style>\n",
       "<table border=\"1\" class=\"dataframe\">\n",
       "  <thead>\n",
       "    <tr>\n",
       "      <th></th>\n",
       "      <th colspan=\"2\" halign=\"left\">debt</th>\n",
       "    </tr>\n",
       "    <tr>\n",
       "      <th></th>\n",
       "      <th>mean</th>\n",
       "      <th>count</th>\n",
       "    </tr>\n",
       "    <tr>\n",
       "      <th>children</th>\n",
       "      <th></th>\n",
       "      <th></th>\n",
       "    </tr>\n",
       "  </thead>\n",
       "  <tbody>\n",
       "    <tr>\n",
       "      <td>0</td>\n",
       "      <td>0.075458</td>\n",
       "      <td>14021</td>\n",
       "    </tr>\n",
       "    <tr>\n",
       "      <td>1</td>\n",
       "      <td>0.091341</td>\n",
       "      <td>4839</td>\n",
       "    </tr>\n",
       "    <tr>\n",
       "      <td>2</td>\n",
       "      <td>0.095553</td>\n",
       "      <td>2114</td>\n",
       "    </tr>\n",
       "    <tr>\n",
       "      <td>3</td>\n",
       "      <td>0.082317</td>\n",
       "      <td>328</td>\n",
       "    </tr>\n",
       "    <tr>\n",
       "      <td>4</td>\n",
       "      <td>0.097561</td>\n",
       "      <td>41</td>\n",
       "    </tr>\n",
       "    <tr>\n",
       "      <td>5</td>\n",
       "      <td>0.000000</td>\n",
       "      <td>9</td>\n",
       "    </tr>\n",
       "  </tbody>\n",
       "</table>\n",
       "</div>"
      ],
      "text/plain": [
       "              debt       \n",
       "              mean  count\n",
       "children                 \n",
       "0         0.075458  14021\n",
       "1         0.091341   4839\n",
       "2         0.095553   2114\n",
       "3         0.082317    328\n",
       "4         0.097561     41\n",
       "5         0.000000      9"
      ]
     },
     "execution_count": 50,
     "metadata": {},
     "output_type": "execute_result"
    }
   ],
   "source": [
    "df.groupby('children').agg({'debt': ['mean', 'count']})"
   ]
  },
  {
   "cell_type": "markdown",
   "metadata": {},
   "source": [
    "*Вероятность задолженности повышается с появлением детей*"
   ]
  },
  {
   "cell_type": "markdown",
   "metadata": {},
   "source": [
    "#### Вывод"
   ]
  },
  {
   "cell_type": "markdown",
   "metadata": {},
   "source": [
    "Зависимость между количеством детей и возвратом кредита в срок разная среди мужчин и женщин. \n",
    "Так, **женщины, у которых детей нет, реже имеют задолженность по кредиту**. Женщины с двумя детьми чаще имеют задолженность, чем матери 1 ребенка. Среди женщин с 3 и более детьми данных о возврате немного для однозначных выводов, однако динамика сохраняется: *чем больше детей, тем выше вероятность задолженности*. Однако, среди матерей 5 детей задолженности по кредиту нет.\n",
    "Среди мужчин, задолженность по кредиту **реже именют отцы 2 детей**, в то время как родители 1 ребенка и мужчины без детей чаще имеют задолженность по кредиту.\n"
   ]
  },
  {
   "cell_type": "markdown",
   "metadata": {},
   "source": [
    "### Зависимость между семейным положением и возвратом кредита в срок  <a class=\"anchor\" id=\"section_4_2\"></a>"
   ]
  },
  {
   "cell_type": "code",
   "execution_count": 51,
   "metadata": {},
   "outputs": [
    {
     "data": {
      "text/html": [
       "<div>\n",
       "<style scoped>\n",
       "    .dataframe tbody tr th:only-of-type {\n",
       "        vertical-align: middle;\n",
       "    }\n",
       "\n",
       "    .dataframe tbody tr th {\n",
       "        vertical-align: top;\n",
       "    }\n",
       "\n",
       "    .dataframe thead tr th {\n",
       "        text-align: left;\n",
       "    }\n",
       "\n",
       "    .dataframe thead tr:last-of-type th {\n",
       "        text-align: right;\n",
       "    }\n",
       "</style>\n",
       "<table border=\"1\" class=\"dataframe\">\n",
       "  <thead>\n",
       "    <tr>\n",
       "      <th></th>\n",
       "      <th colspan=\"2\" halign=\"left\">debt</th>\n",
       "    </tr>\n",
       "    <tr>\n",
       "      <th></th>\n",
       "      <th>mean</th>\n",
       "      <th>count</th>\n",
       "    </tr>\n",
       "    <tr>\n",
       "      <th>family_status</th>\n",
       "      <th></th>\n",
       "      <th></th>\n",
       "    </tr>\n",
       "  </thead>\n",
       "  <tbody>\n",
       "    <tr>\n",
       "      <td>Не женат / не замужем</td>\n",
       "      <td>0.097709</td>\n",
       "      <td>2794</td>\n",
       "    </tr>\n",
       "    <tr>\n",
       "      <td>в разводе</td>\n",
       "      <td>0.071730</td>\n",
       "      <td>1185</td>\n",
       "    </tr>\n",
       "    <tr>\n",
       "      <td>вдовец / вдова</td>\n",
       "      <td>0.064990</td>\n",
       "      <td>954</td>\n",
       "    </tr>\n",
       "    <tr>\n",
       "      <td>гражданский брак</td>\n",
       "      <td>0.093485</td>\n",
       "      <td>4129</td>\n",
       "    </tr>\n",
       "    <tr>\n",
       "      <td>женат / замужем</td>\n",
       "      <td>0.075427</td>\n",
       "      <td>12290</td>\n",
       "    </tr>\n",
       "  </tbody>\n",
       "</table>\n",
       "</div>"
      ],
      "text/plain": [
       "                           debt       \n",
       "                           mean  count\n",
       "family_status                         \n",
       "Не женат / не замужем  0.097709   2794\n",
       "в разводе              0.071730   1185\n",
       "вдовец / вдова         0.064990    954\n",
       "гражданский брак       0.093485   4129\n",
       "женат / замужем        0.075427  12290"
      ]
     },
     "execution_count": 51,
     "metadata": {},
     "output_type": "execute_result"
    }
   ],
   "source": [
    "df.groupby('family_status').agg({'debt': ['mean', 'count']})"
   ]
  },
  {
   "cell_type": "markdown",
   "metadata": {},
   "source": [
    "Вдовы реже имеют задолженности по кредиту (однако, таких очень мало), чаще других групп имеют задолженности не женатые и/или находящиеся в гражданском браке."
   ]
  },
  {
   "cell_type": "code",
   "execution_count": 59,
   "metadata": {},
   "outputs": [
    {
     "name": "stdout",
     "output_type": "stream",
     "text": [
      "Доля клиентов, имеющих задолженность по кредиту, %\n"
     ]
    },
    {
     "data": {
      "text/html": [
       "<div>\n",
       "<style scoped>\n",
       "    .dataframe tbody tr th:only-of-type {\n",
       "        vertical-align: middle;\n",
       "    }\n",
       "\n",
       "    .dataframe tbody tr th {\n",
       "        vertical-align: top;\n",
       "    }\n",
       "\n",
       "    .dataframe thead th {\n",
       "        text-align: right;\n",
       "    }\n",
       "</style>\n",
       "<table border=\"1\" class=\"dataframe\">\n",
       "  <thead>\n",
       "    <tr style=\"text-align: right;\">\n",
       "      <th>age_group</th>\n",
       "      <th>18 - 35</th>\n",
       "      <th>36 - 45</th>\n",
       "      <th>46 - 65</th>\n",
       "      <th>66 - 75</th>\n",
       "    </tr>\n",
       "    <tr>\n",
       "      <th>family_status</th>\n",
       "      <th></th>\n",
       "      <th></th>\n",
       "      <th></th>\n",
       "      <th></th>\n",
       "    </tr>\n",
       "  </thead>\n",
       "  <tbody>\n",
       "    <tr>\n",
       "      <td>Не женат / не замужем</td>\n",
       "      <td>0.118669</td>\n",
       "      <td>0.094139</td>\n",
       "      <td>0.069767</td>\n",
       "      <td>0.026667</td>\n",
       "    </tr>\n",
       "    <tr>\n",
       "      <td>в разводе</td>\n",
       "      <td>0.103448</td>\n",
       "      <td>0.059490</td>\n",
       "      <td>0.064171</td>\n",
       "      <td>0.102564</td>\n",
       "    </tr>\n",
       "    <tr>\n",
       "      <td>вдовец / вдова</td>\n",
       "      <td>0.100000</td>\n",
       "      <td>0.056818</td>\n",
       "      <td>0.066478</td>\n",
       "      <td>0.057554</td>\n",
       "    </tr>\n",
       "    <tr>\n",
       "      <td>гражданский брак</td>\n",
       "      <td>0.108555</td>\n",
       "      <td>0.103448</td>\n",
       "      <td>0.074576</td>\n",
       "      <td>0.048544</td>\n",
       "    </tr>\n",
       "    <tr>\n",
       "      <td>женат / замужем</td>\n",
       "      <td>0.100365</td>\n",
       "      <td>0.077546</td>\n",
       "      <td>0.058000</td>\n",
       "      <td>0.046243</td>\n",
       "    </tr>\n",
       "  </tbody>\n",
       "</table>\n",
       "</div>"
      ],
      "text/plain": [
       "age_group               18 - 35   36 - 45   46 - 65   66 - 75\n",
       "family_status                                                \n",
       "Не женат / не замужем  0.118669  0.094139  0.069767  0.026667\n",
       "в разводе              0.103448  0.059490  0.064171  0.102564\n",
       "вдовец / вдова         0.100000  0.056818  0.066478  0.057554\n",
       "гражданский брак       0.108555  0.103448  0.074576  0.048544\n",
       "женат / замужем        0.100365  0.077546  0.058000  0.046243"
      ]
     },
     "metadata": {},
     "output_type": "display_data"
    },
    {
     "name": "stdout",
     "output_type": "stream",
     "text": [
      "\n",
      "Количество клиентов, имеющих задолженность по кредиту, чел.\n"
     ]
    },
    {
     "data": {
      "text/html": [
       "<div>\n",
       "<style scoped>\n",
       "    .dataframe tbody tr th:only-of-type {\n",
       "        vertical-align: middle;\n",
       "    }\n",
       "\n",
       "    .dataframe tbody tr th {\n",
       "        vertical-align: top;\n",
       "    }\n",
       "\n",
       "    .dataframe thead th {\n",
       "        text-align: right;\n",
       "    }\n",
       "</style>\n",
       "<table border=\"1\" class=\"dataframe\">\n",
       "  <thead>\n",
       "    <tr style=\"text-align: right;\">\n",
       "      <th>age_group</th>\n",
       "      <th>18 - 35</th>\n",
       "      <th>36 - 45</th>\n",
       "      <th>46 - 65</th>\n",
       "      <th>66 - 75</th>\n",
       "    </tr>\n",
       "    <tr>\n",
       "      <th>family_status</th>\n",
       "      <th></th>\n",
       "      <th></th>\n",
       "      <th></th>\n",
       "      <th></th>\n",
       "    </tr>\n",
       "  </thead>\n",
       "  <tbody>\n",
       "    <tr>\n",
       "      <td>Не женат / не замужем</td>\n",
       "      <td>1382</td>\n",
       "      <td>563</td>\n",
       "      <td>774</td>\n",
       "      <td>75</td>\n",
       "    </tr>\n",
       "    <tr>\n",
       "      <td>в разводе</td>\n",
       "      <td>232</td>\n",
       "      <td>353</td>\n",
       "      <td>561</td>\n",
       "      <td>39</td>\n",
       "    </tr>\n",
       "    <tr>\n",
       "      <td>вдовец / вдова</td>\n",
       "      <td>20</td>\n",
       "      <td>88</td>\n",
       "      <td>707</td>\n",
       "      <td>139</td>\n",
       "    </tr>\n",
       "    <tr>\n",
       "      <td>гражданский брак</td>\n",
       "      <td>1391</td>\n",
       "      <td>1160</td>\n",
       "      <td>1475</td>\n",
       "      <td>103</td>\n",
       "    </tr>\n",
       "    <tr>\n",
       "      <td>женат / замужем</td>\n",
       "      <td>3557</td>\n",
       "      <td>3456</td>\n",
       "      <td>4931</td>\n",
       "      <td>346</td>\n",
       "    </tr>\n",
       "  </tbody>\n",
       "</table>\n",
       "</div>"
      ],
      "text/plain": [
       "age_group              18 - 35  36 - 45  46 - 65  66 - 75\n",
       "family_status                                            \n",
       "Не женат / не замужем     1382      563      774       75\n",
       "в разводе                  232      353      561       39\n",
       "вдовец / вдова              20       88      707      139\n",
       "гражданский брак          1391     1160     1475      103\n",
       "женат / замужем           3557     3456     4931      346"
      ]
     },
     "metadata": {},
     "output_type": "display_data"
    }
   ],
   "source": [
    "# проверим зависимость семейнойго положения и возрастной группы на возврат кредита в срок\n",
    "\n",
    "df_pivot_family_mean = df.pivot_table(index=['family_status'], columns=['age_group'], values='debt', \n",
    "                                 aggfunc= 'mean', fill_value='')\n",
    "df_pivot_family_count = df.pivot_table(index=['family_status'], columns=['age_group'], values='debt', \n",
    "                                 aggfunc= 'count', fill_value='')\n",
    "print('Доля клиентов, имеющих задолженность по кредиту, %')\n",
    "display(df_pivot_family_mean)\n",
    "print()\n",
    "print('Количество клиентов, имеющих задолженность по кредиту, чел.')\n",
    "display(df_pivot_family_count)"
   ]
  },
  {
   "cell_type": "markdown",
   "metadata": {},
   "source": [
    "### Вывод"
   ]
  },
  {
   "cell_type": "markdown",
   "metadata": {},
   "source": [
    "В целом, с возрастом вероятность просрочки в основном снижается.\n",
    "\n",
    "1. Среди не *женатых* вероятность задолженности по кредиту наивысшая. Однако вероятность задолженности уменьшается с возрастом. \n",
    "2. Среди *разведенных*, задолженность реже у людей от 36 до 65, лица младше 35 и старше 66 имеют долг чаще.\n",
    "3. *Вдовцами* чаще становятся после 46 лет имеют задолженность реже, чем овдовевшие раньше.\n",
    "4. Среди лиц в *гражданском браке*, люди до 45 лет чаще имеют задолженности по возврату кредита.\n",
    "5. Реже других имею задолженность по возврату *женатые люди* в возрасте 46 до 65 лет, среди наиболее многочисленных групп. Среди женатых вероятность задолженности линейно уменьшается с увеличеснием возраста."
   ]
  },
  {
   "cell_type": "markdown",
   "metadata": {},
   "source": [
    "### Зависимость между уровнем дохода и возвратом кредита в срок  <a class=\"anchor\" id=\"section_4_3\"></a>"
   ]
  },
  {
   "cell_type": "code",
   "execution_count": 53,
   "metadata": {},
   "outputs": [
    {
     "data": {
      "text/html": [
       "<div>\n",
       "<style scoped>\n",
       "    .dataframe tbody tr th:only-of-type {\n",
       "        vertical-align: middle;\n",
       "    }\n",
       "\n",
       "    .dataframe tbody tr th {\n",
       "        vertical-align: top;\n",
       "    }\n",
       "\n",
       "    .dataframe thead tr th {\n",
       "        text-align: left;\n",
       "    }\n",
       "\n",
       "    .dataframe thead tr:last-of-type th {\n",
       "        text-align: right;\n",
       "    }\n",
       "</style>\n",
       "<table border=\"1\" class=\"dataframe\">\n",
       "  <thead>\n",
       "    <tr>\n",
       "      <th></th>\n",
       "      <th colspan=\"2\" halign=\"left\">debt</th>\n",
       "    </tr>\n",
       "    <tr>\n",
       "      <th></th>\n",
       "      <th>mean</th>\n",
       "      <th>count</th>\n",
       "    </tr>\n",
       "    <tr>\n",
       "      <th>income_group</th>\n",
       "      <th></th>\n",
       "      <th></th>\n",
       "    </tr>\n",
       "  </thead>\n",
       "  <tbody>\n",
       "    <tr>\n",
       "      <td>100k - 200k</td>\n",
       "      <td>0.086169</td>\n",
       "      <td>11872</td>\n",
       "    </tr>\n",
       "    <tr>\n",
       "      <td>200k - 300k</td>\n",
       "      <td>0.070486</td>\n",
       "      <td>3561</td>\n",
       "    </tr>\n",
       "    <tr>\n",
       "      <td>300k - 500k</td>\n",
       "      <td>0.073190</td>\n",
       "      <td>1257</td>\n",
       "    </tr>\n",
       "    <tr>\n",
       "      <td>50k - 100k</td>\n",
       "      <td>0.081081</td>\n",
       "      <td>4070</td>\n",
       "    </tr>\n",
       "    <tr>\n",
       "      <td>более 500k</td>\n",
       "      <td>0.063063</td>\n",
       "      <td>222</td>\n",
       "    </tr>\n",
       "    <tr>\n",
       "      <td>менее 50k</td>\n",
       "      <td>0.062162</td>\n",
       "      <td>370</td>\n",
       "    </tr>\n",
       "  </tbody>\n",
       "</table>\n",
       "</div>"
      ],
      "text/plain": [
       "                  debt       \n",
       "                  mean  count\n",
       "income_group                 \n",
       "100k - 200k   0.086169  11872\n",
       "200k - 300k   0.070486   3561\n",
       "300k - 500k   0.073190   1257\n",
       "50k - 100k    0.081081   4070\n",
       "более 500k    0.063063    222\n",
       "менее 50k     0.062162    370"
      ]
     },
     "execution_count": 53,
     "metadata": {},
     "output_type": "execute_result"
    }
   ],
   "source": [
    "df.groupby('income_group').agg({'debt': ['mean', 'count']})"
   ]
  },
  {
   "cell_type": "markdown",
   "metadata": {},
   "source": [
    "Реже задолженность по кредиту имеют люди с достатком менее 50 тысяч и свыше 500 тысяч, однако количество людей с подобным достатком наименьшее. У людей с достатком от 100 до 500 тысяч, **вероятность не возврата кредита в срок уменьшается с увеличением дохода**."
   ]
  },
  {
   "cell_type": "code",
   "execution_count": 54,
   "metadata": {},
   "outputs": [
    {
     "data": {
      "text/html": [
       "<div>\n",
       "<style scoped>\n",
       "    .dataframe tbody tr th:only-of-type {\n",
       "        vertical-align: middle;\n",
       "    }\n",
       "\n",
       "    .dataframe tbody tr th {\n",
       "        vertical-align: top;\n",
       "    }\n",
       "\n",
       "    .dataframe thead th {\n",
       "        text-align: right;\n",
       "    }\n",
       "</style>\n",
       "<table border=\"1\" class=\"dataframe\">\n",
       "  <thead>\n",
       "    <tr style=\"text-align: right;\">\n",
       "      <th></th>\n",
       "      <th></th>\n",
       "      <th>count</th>\n",
       "      <th>mean</th>\n",
       "    </tr>\n",
       "    <tr>\n",
       "      <th>income_group</th>\n",
       "      <th>education</th>\n",
       "      <th></th>\n",
       "      <th></th>\n",
       "    </tr>\n",
       "  </thead>\n",
       "  <tbody>\n",
       "    <tr>\n",
       "      <td rowspan=\"5\" valign=\"top\">100k - 200k</td>\n",
       "      <td>высшее</td>\n",
       "      <td>2750.0</td>\n",
       "      <td>0.057091</td>\n",
       "    </tr>\n",
       "    <tr>\n",
       "      <td>начальное</td>\n",
       "      <td>149.0</td>\n",
       "      <td>0.140940</td>\n",
       "    </tr>\n",
       "    <tr>\n",
       "      <td>неоконченное высшее</td>\n",
       "      <td>411.0</td>\n",
       "      <td>0.080292</td>\n",
       "    </tr>\n",
       "    <tr>\n",
       "      <td>среднее</td>\n",
       "      <td>8559.0</td>\n",
       "      <td>0.094871</td>\n",
       "    </tr>\n",
       "    <tr>\n",
       "      <td>ученая степень</td>\n",
       "      <td>3.0</td>\n",
       "      <td>0.000000</td>\n",
       "    </tr>\n",
       "    <tr>\n",
       "      <td rowspan=\"5\" valign=\"top\">200k - 300k</td>\n",
       "      <td>высшее</td>\n",
       "      <td>1153.0</td>\n",
       "      <td>0.046834</td>\n",
       "    </tr>\n",
       "    <tr>\n",
       "      <td>начальное</td>\n",
       "      <td>37.0</td>\n",
       "      <td>0.108108</td>\n",
       "    </tr>\n",
       "    <tr>\n",
       "      <td>неоконченное высшее</td>\n",
       "      <td>154.0</td>\n",
       "      <td>0.123377</td>\n",
       "    </tr>\n",
       "    <tr>\n",
       "      <td>среднее</td>\n",
       "      <td>2215.0</td>\n",
       "      <td>0.078555</td>\n",
       "    </tr>\n",
       "    <tr>\n",
       "      <td>ученая степень</td>\n",
       "      <td>2.0</td>\n",
       "      <td>0.000000</td>\n",
       "    </tr>\n",
       "    <tr>\n",
       "      <td rowspan=\"4\" valign=\"top\">300k - 500k</td>\n",
       "      <td>высшее</td>\n",
       "      <td>568.0</td>\n",
       "      <td>0.038732</td>\n",
       "    </tr>\n",
       "    <tr>\n",
       "      <td>начальное</td>\n",
       "      <td>3.0</td>\n",
       "      <td>0.000000</td>\n",
       "    </tr>\n",
       "    <tr>\n",
       "      <td>неоконченное высшее</td>\n",
       "      <td>51.0</td>\n",
       "      <td>0.098039</td>\n",
       "    </tr>\n",
       "    <tr>\n",
       "      <td>среднее</td>\n",
       "      <td>635.0</td>\n",
       "      <td>0.102362</td>\n",
       "    </tr>\n",
       "    <tr>\n",
       "      <td rowspan=\"5\" valign=\"top\">50k - 100k</td>\n",
       "      <td>высшее</td>\n",
       "      <td>571.0</td>\n",
       "      <td>0.061296</td>\n",
       "    </tr>\n",
       "    <tr>\n",
       "      <td>начальное</td>\n",
       "      <td>78.0</td>\n",
       "      <td>0.076923</td>\n",
       "    </tr>\n",
       "    <tr>\n",
       "      <td>неоконченное высшее</td>\n",
       "      <td>111.0</td>\n",
       "      <td>0.072072</td>\n",
       "    </tr>\n",
       "    <tr>\n",
       "      <td>среднее</td>\n",
       "      <td>3309.0</td>\n",
       "      <td>0.084920</td>\n",
       "    </tr>\n",
       "    <tr>\n",
       "      <td>ученая степень</td>\n",
       "      <td>1.0</td>\n",
       "      <td>0.000000</td>\n",
       "    </tr>\n",
       "    <tr>\n",
       "      <td rowspan=\"3\" valign=\"top\">более 500k</td>\n",
       "      <td>высшее</td>\n",
       "      <td>142.0</td>\n",
       "      <td>0.056338</td>\n",
       "    </tr>\n",
       "    <tr>\n",
       "      <td>неоконченное высшее</td>\n",
       "      <td>11.0</td>\n",
       "      <td>0.272727</td>\n",
       "    </tr>\n",
       "    <tr>\n",
       "      <td>среднее</td>\n",
       "      <td>69.0</td>\n",
       "      <td>0.043478</td>\n",
       "    </tr>\n",
       "    <tr>\n",
       "      <td rowspan=\"4\" valign=\"top\">менее 50k</td>\n",
       "      <td>высшее</td>\n",
       "      <td>31.0</td>\n",
       "      <td>0.032258</td>\n",
       "    </tr>\n",
       "    <tr>\n",
       "      <td>начальное</td>\n",
       "      <td>15.0</td>\n",
       "      <td>0.000000</td>\n",
       "    </tr>\n",
       "    <tr>\n",
       "      <td>неоконченное высшее</td>\n",
       "      <td>3.0</td>\n",
       "      <td>0.000000</td>\n",
       "    </tr>\n",
       "    <tr>\n",
       "      <td>среднее</td>\n",
       "      <td>321.0</td>\n",
       "      <td>0.068536</td>\n",
       "    </tr>\n",
       "  </tbody>\n",
       "</table>\n",
       "</div>"
      ],
      "text/plain": [
       "                                   count      mean\n",
       "income_group education                            \n",
       "100k - 200k  высшее               2750.0  0.057091\n",
       "             начальное             149.0  0.140940\n",
       "             неоконченное высшее   411.0  0.080292\n",
       "             среднее              8559.0  0.094871\n",
       "             ученая степень          3.0  0.000000\n",
       "200k - 300k  высшее               1153.0  0.046834\n",
       "             начальное              37.0  0.108108\n",
       "             неоконченное высшее   154.0  0.123377\n",
       "             среднее              2215.0  0.078555\n",
       "             ученая степень          2.0  0.000000\n",
       "300k - 500k  высшее                568.0  0.038732\n",
       "             начальное               3.0  0.000000\n",
       "             неоконченное высшее    51.0  0.098039\n",
       "             среднее               635.0  0.102362\n",
       "50k - 100k   высшее                571.0  0.061296\n",
       "             начальное              78.0  0.076923\n",
       "             неоконченное высшее   111.0  0.072072\n",
       "             среднее              3309.0  0.084920\n",
       "             ученая степень          1.0  0.000000\n",
       "более 500k   высшее                142.0  0.056338\n",
       "             неоконченное высшее    11.0  0.272727\n",
       "             среднее                69.0  0.043478\n",
       "менее 50k    высшее                 31.0  0.032258\n",
       "             начальное              15.0  0.000000\n",
       "             неоконченное высшее     3.0  0.000000\n",
       "             среднее               321.0  0.068536"
      ]
     },
     "execution_count": 54,
     "metadata": {},
     "output_type": "execute_result"
    }
   ],
   "source": [
    "# проверим зависимость с учетом образования\n",
    "\n",
    "df_pivot_income = df.pivot_table(index=['income_group', 'education'], columns=[], values='debt', \n",
    "                                 aggfunc= {'mean','count'}, fill_value='')\n",
    "\n",
    "df_pivot_income"
   ]
  },
  {
   "cell_type": "markdown",
   "metadata": {},
   "source": [
    "### Вывод"
   ]
  },
  {
   "cell_type": "markdown",
   "metadata": {},
   "source": [
    "Люди с высшим образованием реже других имеют задолженность по кредиту, при любом уровне достатка. Люди с начальным образованием, наоборот, чаще других имеют задолженность по кредиту. Люди с ученой степенью задолженность не имеют.\n",
    "Уровет дохода действительно влияет на возврат кредита в срок, однако, для улучшение модели скоринга следует учитывать дополнительные параметры, такие как, уровень оброзования, который также влияет на погашение кредита различным образом, при разном достатке."
   ]
  },
  {
   "cell_type": "markdown",
   "metadata": {},
   "source": [
    "### Влияние цели получения кредита на его возврат в срок  <a class=\"anchor\" id=\"section_4_4\"></a>"
   ]
  },
  {
   "cell_type": "code",
   "execution_count": 55,
   "metadata": {},
   "outputs": [
    {
     "data": {
      "text/html": [
       "<div>\n",
       "<style scoped>\n",
       "    .dataframe tbody tr th:only-of-type {\n",
       "        vertical-align: middle;\n",
       "    }\n",
       "\n",
       "    .dataframe tbody tr th {\n",
       "        vertical-align: top;\n",
       "    }\n",
       "\n",
       "    .dataframe thead th {\n",
       "        text-align: right;\n",
       "    }\n",
       "</style>\n",
       "<table border=\"1\" class=\"dataframe\">\n",
       "  <thead>\n",
       "    <tr style=\"text-align: right;\">\n",
       "      <th></th>\n",
       "      <th>mean</th>\n",
       "      <th>count</th>\n",
       "    </tr>\n",
       "    <tr>\n",
       "      <th>purpose_group</th>\n",
       "      <th></th>\n",
       "      <th></th>\n",
       "    </tr>\n",
       "  </thead>\n",
       "  <tbody>\n",
       "    <tr>\n",
       "      <td>автомобиль</td>\n",
       "      <td>0.093371</td>\n",
       "      <td>4284</td>\n",
       "    </tr>\n",
       "    <tr>\n",
       "      <td>жилье</td>\n",
       "      <td>0.068981</td>\n",
       "      <td>4436</td>\n",
       "    </tr>\n",
       "    <tr>\n",
       "      <td>недвижимость</td>\n",
       "      <td>0.074759</td>\n",
       "      <td>6327</td>\n",
       "    </tr>\n",
       "    <tr>\n",
       "      <td>образование</td>\n",
       "      <td>0.092616</td>\n",
       "      <td>3995</td>\n",
       "    </tr>\n",
       "    <tr>\n",
       "      <td>свадьба</td>\n",
       "      <td>0.079654</td>\n",
       "      <td>2310</td>\n",
       "    </tr>\n",
       "  </tbody>\n",
       "</table>\n",
       "</div>"
      ],
      "text/plain": [
       "                   mean  count\n",
       "purpose_group                 \n",
       "автомобиль     0.093371   4284\n",
       "жилье          0.068981   4436\n",
       "недвижимость   0.074759   6327\n",
       "образование    0.092616   3995\n",
       "свадьба        0.079654   2310"
      ]
     },
     "execution_count": 55,
     "metadata": {},
     "output_type": "execute_result"
    }
   ],
   "source": [
    "df.groupby('purpose_group')['debt'].agg({'mean','count'})"
   ]
  },
  {
   "cell_type": "markdown",
   "metadata": {},
   "source": [
    "Кредиты на *жилье* возвращаю в срок чаще всего. Кредиты, целью которых была недвижимость и свадьба, также чаще возвращают в срок, более того, нежвижимость берут кредиты чаще всего."
   ]
  },
  {
   "cell_type": "code",
   "execution_count": 56,
   "metadata": {},
   "outputs": [
    {
     "data": {
      "text/html": [
       "<div>\n",
       "<style scoped>\n",
       "    .dataframe tbody tr th:only-of-type {\n",
       "        vertical-align: middle;\n",
       "    }\n",
       "\n",
       "    .dataframe tbody tr th {\n",
       "        vertical-align: top;\n",
       "    }\n",
       "\n",
       "    .dataframe thead th {\n",
       "        text-align: right;\n",
       "    }\n",
       "</style>\n",
       "<table border=\"1\" class=\"dataframe\">\n",
       "  <thead>\n",
       "    <tr style=\"text-align: right;\">\n",
       "      <th></th>\n",
       "      <th></th>\n",
       "      <th>count</th>\n",
       "      <th>mean</th>\n",
       "    </tr>\n",
       "    <tr>\n",
       "      <th>purpose_group</th>\n",
       "      <th>gender</th>\n",
       "      <th></th>\n",
       "      <th></th>\n",
       "    </tr>\n",
       "  </thead>\n",
       "  <tbody>\n",
       "    <tr>\n",
       "      <td rowspan=\"2\" valign=\"top\">автомобиль</td>\n",
       "      <td>F</td>\n",
       "      <td>2842.0</td>\n",
       "      <td>0.081633</td>\n",
       "    </tr>\n",
       "    <tr>\n",
       "      <td>M</td>\n",
       "      <td>1442.0</td>\n",
       "      <td>0.116505</td>\n",
       "    </tr>\n",
       "    <tr>\n",
       "      <td rowspan=\"2\" valign=\"top\">жилье</td>\n",
       "      <td>F</td>\n",
       "      <td>2886.0</td>\n",
       "      <td>0.064449</td>\n",
       "    </tr>\n",
       "    <tr>\n",
       "      <td>M</td>\n",
       "      <td>1550.0</td>\n",
       "      <td>0.077419</td>\n",
       "    </tr>\n",
       "    <tr>\n",
       "      <td rowspan=\"2\" valign=\"top\">недвижимость</td>\n",
       "      <td>F</td>\n",
       "      <td>4170.0</td>\n",
       "      <td>0.061631</td>\n",
       "    </tr>\n",
       "    <tr>\n",
       "      <td>M</td>\n",
       "      <td>2157.0</td>\n",
       "      <td>0.100139</td>\n",
       "    </tr>\n",
       "    <tr>\n",
       "      <td rowspan=\"2\" valign=\"top\">образование</td>\n",
       "      <td>F</td>\n",
       "      <td>2652.0</td>\n",
       "      <td>0.078054</td>\n",
       "    </tr>\n",
       "    <tr>\n",
       "      <td>M</td>\n",
       "      <td>1343.0</td>\n",
       "      <td>0.121370</td>\n",
       "    </tr>\n",
       "    <tr>\n",
       "      <td rowspan=\"2\" valign=\"top\">свадьба</td>\n",
       "      <td>F</td>\n",
       "      <td>1552.0</td>\n",
       "      <td>0.068943</td>\n",
       "    </tr>\n",
       "    <tr>\n",
       "      <td>M</td>\n",
       "      <td>758.0</td>\n",
       "      <td>0.101583</td>\n",
       "    </tr>\n",
       "  </tbody>\n",
       "</table>\n",
       "</div>"
      ],
      "text/plain": [
       "                       count      mean\n",
       "purpose_group gender                  \n",
       "автомобиль    F       2842.0  0.081633\n",
       "              M       1442.0  0.116505\n",
       "жилье         F       2886.0  0.064449\n",
       "              M       1550.0  0.077419\n",
       "недвижимость  F       4170.0  0.061631\n",
       "              M       2157.0  0.100139\n",
       "образование   F       2652.0  0.078054\n",
       "              M       1343.0  0.121370\n",
       "свадьба       F       1552.0  0.068943\n",
       "              M        758.0  0.101583"
      ]
     },
     "execution_count": 56,
     "metadata": {},
     "output_type": "execute_result"
    }
   ],
   "source": [
    "# проверим, зависит ли задолженность от цели и пола клиента\n",
    "\n",
    "df_pivot_purpose = df.pivot_table(index=['purpose_group', 'gender'], columns=[], values='debt', \n",
    "                                 aggfunc= {'mean','count'}, fill_value='')\n",
    "\n",
    "df_pivot_purpose"
   ]
  },
  {
   "cell_type": "markdown",
   "metadata": {},
   "source": [
    "Женщины чаще мужчин берут кредиты и реже имеют задолженность по ним.\n",
    "Реже всего женщины имеют задолженности по кредитам на недвижимость, в то время, как мужчины чаще имеют задолженность по кредитам на образование и автомобиль."
   ]
  },
  {
   "cell_type": "markdown",
   "metadata": {},
   "source": [
    "### Вывод"
   ]
  },
  {
   "cell_type": "markdown",
   "metadata": {},
   "source": [
    "**Все гипотезы о зависимости возврата кредита от различных факторо подтвердились.**\n",
    "Однако, для улучшения модели, следует рассматривать влияние нескольких факторов. Так, количество детей влияет по-разному на возврат кредита в срок среди мужчин и женщин, а люди разного возраста, но одинакового семейного положения, по-разному возвращают кредит. \n",
    "Несмотря на различные цели кредитов, люди с одинаковой частотой имеют задержки по кредитам на автомобили и образование, недвижимость и свадьбу, однако рассматривая в связке с гендером, можно заметить что женщиты чаще возвращают кредиты вовремя вне зависимости от назначения кредита."
   ]
  },
  {
   "cell_type": "markdown",
   "metadata": {},
   "source": [
    "## Общий вывод <a class=\"anchor\" id=\"chapter5\"></a>"
   ]
  },
  {
   "cell_type": "markdown",
   "metadata": {},
   "source": [
    "Важным этапом анализа является предварительная обработка данных.\n",
    "Для ответа на поставленные вопросы о наличие зависимости между возвратом кредите и наличием детей, семейным положением, доходом и целями получения кредита были категорезированы данные и рассмотрены вместе с дополнительными факторами. \n",
    "Каждая гипотеза подтвердилась, так на возврат кредита в срок действительно влиятет колчество детей и доход, семейное положени и цели. Однако для улучшения модели скоринга следует рассматривать совместное влияние вакторов, например, пола и количества детей."
   ]
  },
  {
   "cell_type": "markdown",
   "metadata": {},
   "source": [
    "*Много факторов влияют на возврат кредита в срок, среди которых не малую роль играет семейное положение клиента.\n",
    "Так, с появлением детей появляется и вероятность просрочки кредита.\n",
    "Люди, находящиеся или находившиеся в браке реже имеют  задолженность, чем не женатые и находящиеся в гражданском браке.\n",
    "С возрастом вероятность задолженности снижается.\n",
    "Доход имеет наибольшее влияние на возврат кредита в срок - чем доход выше, там ниже риск.\n",
    "Чаще всего кредиты берут на недвижимость и реже всего имеют по ним задолженность. Чаще всего просрочки имеют клиенты с кредитами на автомобили, к мужчинам, в этой группе следует уделять особое внимание, так как у них вероятность задолженности выше..*"
   ]
  }
 ],
 "metadata": {
  "kernelspec": {
   "display_name": "Python 3",
   "language": "python",
   "name": "python3"
  },
  "language_info": {
   "codemirror_mode": {
    "name": "ipython",
    "version": 3
   },
   "file_extension": ".py",
   "mimetype": "text/x-python",
   "name": "python",
   "nbconvert_exporter": "python",
   "pygments_lexer": "ipython3",
   "version": "3.7.6"
  }
 },
 "nbformat": 4,
 "nbformat_minor": 2
}
